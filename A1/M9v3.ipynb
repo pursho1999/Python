{
 "cells": [
  {
   "cell_type": "markdown",
   "id": "a244ae07-6022-40f9-a902-34429e0b3c97",
   "metadata": {},
   "source": [
    "## Q1. What is Abstraction in OOPs? Explain with an example."
   ]
  },
  {
   "cell_type": "markdown",
   "id": "5b8b2630-3225-4569-b9b8-ba5548942264",
   "metadata": {},
   "source": [
    "Abstraction is a fundamental concept in object-oriented programming that involves hiding the complex implementation details and showing only the necessary features of an object. It helps in reducing complexity and allows the programmer to focus on interactions at a higher level."
   ]
  },
  {
   "cell_type": "code",
   "execution_count": 1,
   "id": "8611329c-59ee-474b-9eb1-4699b97f1f65",
   "metadata": {},
   "outputs": [
    {
     "name": "stdout",
     "output_type": "stream",
     "text": [
      "Bark\n",
      "Meow\n"
     ]
    }
   ],
   "source": [
    "from abc import ABC, abstractmethod\n",
    "\n",
    "class Animal(ABC):\n",
    "    @abstractmethod\n",
    "    def make_sound(self):\n",
    "        pass\n",
    "\n",
    "class Dog(Animal):\n",
    "    def make_sound(self):\n",
    "        return \"Bark\"\n",
    "\n",
    "class Cat(Animal):\n",
    "    def make_sound(self):\n",
    "        return \"Meow\"\n",
    "\n",
    "\n",
    "dog = Dog()\n",
    "cat = Cat()\n",
    "\n",
    "print(dog.make_sound())  \n",
    "print(cat.make_sound())  \n"
   ]
  },
  {
   "cell_type": "markdown",
   "id": "e4e0ba4c-ff5a-457b-a899-353b62f3f50f",
   "metadata": {},
   "source": [
    "## Q2. Differentiate between Abstraction and Encapsulation. Explain with an example."
   ]
  },
  {
   "cell_type": "markdown",
   "id": "04ff32c6-0a9c-4992-a575-32388614aba4",
   "metadata": {},
   "source": [
    "Abstraction focuses on hiding the complex implementation details and showing only the necessary parts of an object. It is about creating a simple interface for more complex underlying code.\n",
    "\n",
    "\n",
    "Encapsulation involves bundling the data and methods that operate on the data into a single unit or class and restricting access to some of the object's components. This means that the internal representation of an object is hidden from the outside."
   ]
  },
  {
   "cell_type": "code",
   "execution_count": 4,
   "id": "1c000c96-5f75-4be6-96c3-1c2dd4f24446",
   "metadata": {},
   "outputs": [
    {
     "name": "stdout",
     "output_type": "stream",
     "text": [
      "78.5\n"
     ]
    }
   ],
   "source": [
    "#Abstracton\n",
    "from abc import ABC, abstractmethod\n",
    "\n",
    "class Shape(ABC):\n",
    "    @abstractmethod\n",
    "    def area(self):\n",
    "        pass\n",
    "\n",
    "class Circle(Shape):\n",
    "    def __init__(self, radius):\n",
    "        self.radius = radius\n",
    "    \n",
    "    def area(self):\n",
    "        return 3.14 * self.radius * self.radius\n",
    "\n",
    "circle = Circle(5)\n",
    "print(circle.area())\n"
   ]
  },
  {
   "cell_type": "code",
   "execution_count": 7,
   "id": "2b60e4d5-b8c3-462f-8cb1-c2a184de8c53",
   "metadata": {},
   "outputs": [
    {
     "name": "stdout",
     "output_type": "stream",
     "text": [
      "Name: Jamesh, Salary: 5000\n",
      "Name: Jamesh, Salary: 6000\n"
     ]
    }
   ],
   "source": [
    "#Encapsulation\n",
    "class Employee:\n",
    "    def __init__(self, name, salary):\n",
    "        self.__name = name  #Private var\n",
    "        self.__salary = salary  #Private var\n",
    "    \n",
    "    def get_details(self):\n",
    "        return f\"Name: {self.__name}, Salary: {self.__salary}\"\n",
    "\n",
    "    def set_salary(self, salary):\n",
    "        if salary > 0:\n",
    "            self.__salary = salary\n",
    "\n",
    "# Usage\n",
    "employee = Employee(\"Jamesh\", 5000)\n",
    "print(employee.get_details())  \n",
    "employee.set_salary(6000)\n",
    "print(employee.get_details())  \n"
   ]
  },
  {
   "cell_type": "markdown",
   "id": "19d8a871-5c1b-44d7-8de3-e0735a0bf003",
   "metadata": {},
   "source": [
    "## Q3. What is abc module in python? Why is it used?"
   ]
  },
  {
   "cell_type": "markdown",
   "id": "30d86c9f-5cad-496b-848b-4d770259499a",
   "metadata": {},
   "source": [
    "The abc module in Python provides the infrastructure for defining abstract base classes (ABCs). An abstract base class is a class that cannot be instantiated and typically contains one or more abstract methods, which are methods declared but contain no implementation. Subclasses of the abstract base class must provide implementations for the abstract methods.\n",
    "\n",
    "The abc module is used to define abstract base classes that serve as templates for other classes. It enforces a certain interface in derived classes."
   ]
  },
  {
   "cell_type": "code",
   "execution_count": 8,
   "id": "eb641f11-f656-45cc-945a-82b3d48ef625",
   "metadata": {},
   "outputs": [
    {
     "name": "stdout",
     "output_type": "stream",
     "text": [
      "Bark\n"
     ]
    }
   ],
   "source": [
    "from abc import ABC, abstractmethod\n",
    "\n",
    "class Animal(ABC):\n",
    "    @abstractmethod\n",
    "    def make_sound(self):\n",
    "        pass\n",
    "\n",
    "class Dog(Animal):\n",
    "    def make_sound(self):\n",
    "        return \"Bark\"\n",
    "\n",
    "dog = Dog()\n",
    "print(dog.make_sound())  # Outputs: Bark\n"
   ]
  },
  {
   "cell_type": "markdown",
   "id": "5375ffe9-a920-4318-9934-b80db8a096ab",
   "metadata": {},
   "source": [
    "## Q4. How can we achieve data abstraction?"
   ]
  },
  {
   "cell_type": "markdown",
   "id": "3d43a94e-74c2-490c-b001-1363db718791",
   "metadata": {},
   "source": [
    "Data abstraction in OOP can be achieved by using abstract classes and interfaces. By defining abstract methods in these abstract classes or interfaces, we can specify a set of methods that must be implemented by any subclass, without providing the actual implementation."
   ]
  },
  {
   "cell_type": "code",
   "execution_count": 10,
   "id": "d1a0ef04-c552-4c50-9e6d-1e2828e16d20",
   "metadata": {},
   "outputs": [
    {
     "name": "stdout",
     "output_type": "stream",
     "text": [
      "Car engine started\n",
      "Motorcycle engine started\n"
     ]
    }
   ],
   "source": [
    "from abc import ABC, abstractmethod\n",
    "\n",
    "class Vehicle(ABC):\n",
    "    @abstractmethod\n",
    "    def start_engine(self):\n",
    "        pass\n",
    "\n",
    "class Car(Vehicle):\n",
    "    def start_engine(self):\n",
    "        print(\"Car engine started\")\n",
    "\n",
    "class Motorcycle(Vehicle):\n",
    "    def start_engine(self):\n",
    "        print(\"Motorcycle engine started\")\n",
    "\n",
    "car = Car()\n",
    "motorcycle = Motorcycle()\n",
    "\n",
    "car.start_engine() \n",
    "motorcycle.start_engine()  "
   ]
  },
  {
   "cell_type": "markdown",
   "id": "a14bb1d6-1654-46c7-b1bf-e1fd8cc28901",
   "metadata": {},
   "source": [
    "## Q5. Can we create an instance of an abstract class? Explain your answer."
   ]
  },
  {
   "cell_type": "markdown",
   "id": "a4d3ea8d-b48a-4cd5-8499-2581607e87f6",
   "metadata": {},
   "source": [
    "No, we cannot create an instance of an abstract class. An abstract class is meant to be a blueprint for other classes. It can define methods and attributes that must be implemented by its subclasses. If an attempt is made to instantiate an abstract class, Python will raise a TypeError."
   ]
  },
  {
   "cell_type": "code",
   "execution_count": 13,
   "id": "3c6cbfb7-efb3-4dfa-8014-9407d58f098a",
   "metadata": {},
   "outputs": [
    {
     "ename": "TypeError",
     "evalue": "Can't instantiate abstract class AbstractClassExample with abstract method abstract_method",
     "output_type": "error",
     "traceback": [
      "\u001b[0;31m---------------------------------------------------------------------------\u001b[0m",
      "\u001b[0;31mTypeError\u001b[0m                                 Traceback (most recent call last)",
      "Cell \u001b[0;32mIn[13], line 3\u001b[0m\n\u001b[1;32m      1\u001b[0m \u001b[38;5;28;01mfrom\u001b[39;00m \u001b[38;5;21;01mabc\u001b[39;00m \u001b[38;5;28;01mimport\u001b[39;00m ABC, abstractmethod\n\u001b[0;32m----> 3\u001b[0m \u001b[38;5;28;01mclass\u001b[39;00m \u001b[38;5;21;01mAbstractClassExample\u001b[39;00m(ABC):\n\u001b[1;32m      4\u001b[0m     \u001b[38;5;129m@abstractmethod\u001b[39m\n\u001b[1;32m      5\u001b[0m     \u001b[38;5;28;01mdef\u001b[39;00m \u001b[38;5;21mabstract_method\u001b[39m(\u001b[38;5;28mself\u001b[39m):\n\u001b[1;32m      6\u001b[0m         \u001b[38;5;28;01mpass\u001b[39;00m\n",
      "Cell \u001b[0;32mIn[13], line 10\u001b[0m, in \u001b[0;36mAbstractClassExample\u001b[0;34m()\u001b[0m\n\u001b[1;32m      4\u001b[0m \u001b[38;5;129m@abstractmethod\u001b[39m\n\u001b[1;32m      5\u001b[0m \u001b[38;5;28;01mdef\u001b[39;00m \u001b[38;5;21mabstract_method\u001b[39m(\u001b[38;5;28mself\u001b[39m):\n\u001b[1;32m      6\u001b[0m     \u001b[38;5;28;01mpass\u001b[39;00m\n\u001b[0;32m---> 10\u001b[0m obj \u001b[38;5;241m=\u001b[39m \u001b[43mAbstractClassExample\u001b[49m\u001b[43m(\u001b[49m\u001b[43m)\u001b[49m\n",
      "\u001b[0;31mTypeError\u001b[0m: Can't instantiate abstract class AbstractClassExample with abstract method abstract_method"
     ]
    }
   ],
   "source": [
    "from abc import ABC, abstractmethod\n",
    "\n",
    "class AbstractClassExample(ABC):\n",
    "    @abstractmethod\n",
    "    def abstract_method(self):\n",
    "        pass\n",
    "\n",
    "    obj = AbstractClassExample()\n"
   ]
  },
  {
   "cell_type": "code",
   "execution_count": null,
   "id": "c2a8f9ff-3cfa-4d12-972d-e04aafbcdd8f",
   "metadata": {},
   "outputs": [],
   "source": []
  }
 ],
 "metadata": {
  "kernelspec": {
   "display_name": "Python 3 (ipykernel)",
   "language": "python",
   "name": "python3"
  },
  "language_info": {
   "codemirror_mode": {
    "name": "ipython",
    "version": 3
   },
   "file_extension": ".py",
   "mimetype": "text/x-python",
   "name": "python",
   "nbconvert_exporter": "python",
   "pygments_lexer": "ipython3",
   "version": "3.10.8"
  }
 },
 "nbformat": 4,
 "nbformat_minor": 5
}
