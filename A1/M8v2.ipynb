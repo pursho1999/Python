{
 "cells": [
  {
   "cell_type": "markdown",
   "id": "a5473198-c433-4704-b83f-806294279ca0",
   "metadata": {},
   "source": [
    "## Q1. Create a python program to sort the given list of tuples based on integer value using a lambda function.\n",
    "##### [('Sachin Tendulkar', 34357), ('Ricky Ponting', 27483), ('Jack Kallis', 25534), ('Virat Kohli', 24936)]"
   ]
  },
  {
   "cell_type": "code",
   "execution_count": 3,
   "id": "06c3219e-c3fa-44bc-a5c7-a8ed2472d8f3",
   "metadata": {},
   "outputs": [
    {
     "name": "stdout",
     "output_type": "stream",
     "text": [
      "[('Virat Kohli', 24936), ('Jack Kallis', 25534), ('Ricky Ponting', 27483), ('Sachin Tendulkar', 34357)]\n"
     ]
    }
   ],
   "source": [
    "data = [('Sachin Tendulkar', 34357), ('Ricky Ponting', 27483), ('Jack Kallis', 25534), ('Virat Kohli', 24936)]\n",
    "sorted_data = sorted(data, key=lambda x: x[1])\n",
    "print(sorted_data)\n"
   ]
  },
  {
   "cell_type": "markdown",
   "id": "eadc6f6c-7ac8-4bab-ab87-207bbb889cf3",
   "metadata": {},
   "source": [
    "## Q2. Write a Python Program to find the squares of all the numbers in the given list of integers using lambda and map functions.\n",
    "##### [1, 2, 3, 4, 5, 6, 7, 8, 9, 10]"
   ]
  },
  {
   "cell_type": "code",
   "execution_count": 5,
   "id": "f6755793-df53-4c32-90cc-e0897917e729",
   "metadata": {},
   "outputs": [
    {
     "name": "stdout",
     "output_type": "stream",
     "text": [
      "[1, 4, 9, 16, 25, 36, 49, 64, 81, 100]\n"
     ]
    }
   ],
   "source": [
    "numbers = [1, 2, 3, 4, 5, 6, 7, 8, 9, 10]\n",
    "squares = list(map(lambda x: x**2, numbers))\n",
    "print(squares)"
   ]
  },
  {
   "cell_type": "markdown",
   "id": "318e7884-80a8-4164-8a98-9f1eb05d9456",
   "metadata": {},
   "source": [
    "## Q3. Write a python program to convert the given list of integers into a tuple of strings. Use map and lambda functions\n",
    "##### Given String: [1, 2, 3, 4, 5, 6, 7, 8, 9, 10]\n",
    "##### Expected output: ('1', '2', '3', '4', '5', '6', '7', '8', '9', '10')"
   ]
  },
  {
   "cell_type": "code",
   "execution_count": 6,
   "id": "618db5b2-0902-425d-b07c-8e06b274429b",
   "metadata": {},
   "outputs": [
    {
     "name": "stdout",
     "output_type": "stream",
     "text": [
      "('1', '2', '3', '4', '5', '6', '7', '8', '9', '10')\n"
     ]
    }
   ],
   "source": [
    "numbers = [1, 2, 3, 4, 5, 6, 7, 8, 9, 10]\n",
    "tuple_of_strings = tuple(map(lambda x: str(x), numbers))\n",
    "print(tuple_of_strings)"
   ]
  },
  {
   "cell_type": "markdown",
   "id": "d2e5df39-f4bd-46d0-a02f-dc49778e9f8a",
   "metadata": {},
   "source": [
    "## Q4. Write a python program using reduce function to compute the product of a list containing numbers from 1 to 25."
   ]
  },
  {
   "cell_type": "code",
   "execution_count": 8,
   "id": "fdb27dd0-919e-4f64-a2b1-67eb8822cd8c",
   "metadata": {},
   "outputs": [
    {
     "name": "stdout",
     "output_type": "stream",
     "text": [
      "15511210043330985984000000\n"
     ]
    }
   ],
   "source": [
    "from functools import reduce\n",
    "\n",
    "numbers = range(1, 26)\n",
    "product = reduce(lambda x, y: x * y, numbers)\n",
    "print(product)"
   ]
  },
  {
   "cell_type": "markdown",
   "id": "a326cdfb-7933-46c3-8999-5f1e9cde33bf",
   "metadata": {},
   "source": [
    "## Q5. Write a python program to filter the numbers in a given list that are divisible by 2 and 3 using the filter function.\n",
    "##### [2, 3, 6, 9, 27, 60, 90, 120, 55, 46]"
   ]
  },
  {
   "cell_type": "code",
   "execution_count": 9,
   "id": "4e0b6151-968c-4652-92ad-2b38a4ed1d76",
   "metadata": {},
   "outputs": [
    {
     "name": "stdout",
     "output_type": "stream",
     "text": [
      "[6, 60, 90, 120]\n"
     ]
    }
   ],
   "source": [
    "numbers = [2, 3, 6, 9, 27, 60, 90, 120, 55, 46]\n",
    "filtered_numbers = list(filter(lambda x: x % 2 == 0 and x % 3 == 0, numbers))\n",
    "print(filtered_numbers)"
   ]
  },
  {
   "cell_type": "markdown",
   "id": "6b033f09-69ce-4982-9628-7888e3bdb41a",
   "metadata": {},
   "source": [
    "## Q6. Write a python program to find palindromes in the given list of strings using lambda and filter function.\n",
    "['python', 'php', 'aba', 'radar', 'level']"
   ]
  },
  {
   "cell_type": "code",
   "execution_count": 10,
   "id": "6b38f071-5dd3-4c39-9b0c-dd1c061fc3e0",
   "metadata": {},
   "outputs": [
    {
     "name": "stdout",
     "output_type": "stream",
     "text": [
      "['php', 'aba', 'radar', 'level']\n"
     ]
    }
   ],
   "source": [
    "words = ['python', 'php', 'aba', 'radar', 'level']\n",
    "palindromes = list(filter(lambda x: x == x[::-1], words))\n",
    "print(palindromes)"
   ]
  }
 ],
 "metadata": {
  "kernelspec": {
   "display_name": "Python 3 (ipykernel)",
   "language": "python",
   "name": "python3"
  },
  "language_info": {
   "codemirror_mode": {
    "name": "ipython",
    "version": 3
   },
   "file_extension": ".py",
   "mimetype": "text/x-python",
   "name": "python",
   "nbconvert_exporter": "python",
   "pygments_lexer": "ipython3",
   "version": "3.10.8"
  }
 },
 "nbformat": 4,
 "nbformat_minor": 5
}
