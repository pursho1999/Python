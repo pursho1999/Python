{
 "cells": [
  {
   "cell_type": "markdown",
   "id": "f94cf95a-9d86-4411-b7dd-818571b27c91",
   "metadata": {},
   "source": [
    "## Q1: What is an Exception in Python? Write the difference between Exceptions and Syntax errors."
   ]
  },
  {
   "cell_type": "markdown",
   "id": "b59a808a-1e25-4cdd-bd2a-36912873bbb3",
   "metadata": {},
   "source": [
    "An exception in Python is an event that occurs during the execution of a program that disrupts the normal flow of the program's instructions. When a Python script encounters a situation it cannot cope with, it raises an exception. An exception is a Python object that represents an error.\n",
    "\n",
    "Difference between Exceptions and Syntax Errors:\n",
    "\n",
    "    Exceptions:\n",
    "        Occur at runtime (when the program is running).\n",
    "        Examples include ZeroDivisionError, FileNotFoundError, ValueError.\n",
    "        Can be handled using try-except blocks to prevent the program from crashing.\n",
    "    Syntax Errors:\n",
    "        Occur at compile time (when the code is being parsed).\n",
    "        Examples include missing colons, misspelled keywords, incorrect indentation.\n",
    "        Prevent the code from being executed until they are fixed."
   ]
  },
  {
   "cell_type": "markdown",
   "id": "d9335d2d-ff8f-4624-8577-14e8fa3a3906",
   "metadata": {},
   "source": [
    "## Q2: What happens when an exception is not handled? Explain with an example."
   ]
  },
  {
   "cell_type": "code",
   "execution_count": 2,
   "id": "42df0e71-19aa-40b3-8d23-d6ae4f599726",
   "metadata": {},
   "outputs": [
    {
     "ename": "ZeroDivisionError",
     "evalue": "division by zero",
     "output_type": "error",
     "traceback": [
      "\u001b[0;31m---------------------------------------------------------------------------\u001b[0m",
      "\u001b[0;31mZeroDivisionError\u001b[0m                         Traceback (most recent call last)",
      "Cell \u001b[0;32mIn[2], line 4\u001b[0m\n\u001b[1;32m      1\u001b[0m \u001b[38;5;28;01mdef\u001b[39;00m \u001b[38;5;21mdivide\u001b[39m(x, y):\n\u001b[1;32m      2\u001b[0m     \u001b[38;5;28;01mreturn\u001b[39;00m x \u001b[38;5;241m/\u001b[39m y\n\u001b[0;32m----> 4\u001b[0m \u001b[38;5;28mprint\u001b[39m(\u001b[43mdivide\u001b[49m\u001b[43m(\u001b[49m\u001b[38;5;241;43m10\u001b[39;49m\u001b[43m,\u001b[49m\u001b[43m \u001b[49m\u001b[38;5;241;43m0\u001b[39;49m\u001b[43m)\u001b[49m)\n",
      "Cell \u001b[0;32mIn[2], line 2\u001b[0m, in \u001b[0;36mdivide\u001b[0;34m(x, y)\u001b[0m\n\u001b[1;32m      1\u001b[0m \u001b[38;5;28;01mdef\u001b[39;00m \u001b[38;5;21mdivide\u001b[39m(x, y):\n\u001b[0;32m----> 2\u001b[0m     \u001b[38;5;28;01mreturn\u001b[39;00m \u001b[43mx\u001b[49m\u001b[43m \u001b[49m\u001b[38;5;241;43m/\u001b[39;49m\u001b[43m \u001b[49m\u001b[43my\u001b[49m\n",
      "\u001b[0;31mZeroDivisionError\u001b[0m: division by zero"
     ]
    }
   ],
   "source": [
    "def divide(x, y):\n",
    "    return x / y\n",
    "\n",
    "print(divide(10, 0))\n"
   ]
  },
  {
   "cell_type": "markdown",
   "id": "d1d368b1-0c37-46c8-95b2-fa3b0968217d",
   "metadata": {},
   "source": [
    "In this example, a ZeroDivisionError occurs because division by zero is not allowed. Since the exception is not handled, the program stops execution and displays the traceback."
   ]
  },
  {
   "cell_type": "markdown",
   "id": "ce7b5316-ea9b-4b5c-bbc9-6a19728f6303",
   "metadata": {},
   "source": [
    "## Q3: Which Python statements are used to catch and handle exceptions? Explain with an example."
   ]
  },
  {
   "cell_type": "markdown",
   "id": "47d7a1f3-9ea6-4248-869f-462f63d80629",
   "metadata": {},
   "source": [
    "The Python statements used to catch and handle exceptions are try, except, else, and finally."
   ]
  },
  {
   "cell_type": "code",
   "execution_count": 3,
   "id": "7d1a1fbe-1ec8-4a33-888d-f2fd2e23b74c",
   "metadata": {},
   "outputs": [
    {
     "name": "stdout",
     "output_type": "stream",
     "text": [
      "Cannot divide by zero.\n",
      "Execution complete.\n"
     ]
    }
   ],
   "source": [
    "try:\n",
    "    result = 10 / 0\n",
    "except ZeroDivisionError:\n",
    "    print(\"Cannot divide by zero.\")\n",
    "else:\n",
    "    print(\"Division successful:\", result)\n",
    "finally:\n",
    "    print(\"Execution complete.\")\n"
   ]
  },
  {
   "cell_type": "markdown",
   "id": "13f5e33f-8d61-4e2f-9da0-a012b0c13c30",
   "metadata": {},
   "source": [
    "In this example, the try block contains code that may raise an exception. The except block catches the ZeroDivisionError and handles it by printing a message. The else block would execute if no exceptions were raised. The finally block always executes, regardless of whether an exception was raised or not."
   ]
  },
  {
   "cell_type": "markdown",
   "id": "c4568614-e6db-4393-8018-a22c7de20c6d",
   "metadata": {},
   "source": [
    "## Q4: Explain with an example:\n",
    "\n",
    "a. try and else </br>\n",
    "b. finally </br>\n",
    "c. raise </br>"
   ]
  },
  {
   "cell_type": "code",
   "execution_count": 5,
   "id": "8558d522-babb-46dc-a2a3-ed9e6c1aba7c",
   "metadata": {},
   "outputs": [
    {
     "name": "stdout",
     "output_type": "stream",
     "text": [
      "Division successful: 5.0\n"
     ]
    }
   ],
   "source": [
    "#a. try and else:\n",
    "#The else block is executed if the try block does not raise an exception.\n",
    "\n",
    "try:\n",
    "    result = 10 / 2\n",
    "except ZeroDivisionError:\n",
    "    print(\"Cannot divide by zero.\")\n",
    "else:\n",
    "    print(\"Division successful:\", result)\n"
   ]
  },
  {
   "cell_type": "code",
   "execution_count": 6,
   "id": "3bbf057a-ad21-4dd6-9122-d1a6a88620ff",
   "metadata": {},
   "outputs": [
    {
     "name": "stdout",
     "output_type": "stream",
     "text": [
      "Cannot divide by zero.\n",
      "This will always be printed.\n"
     ]
    }
   ],
   "source": [
    "#b. finally:\n",
    "#The finally block is always executed, whether an exception is raised or not.\n",
    "\n",
    "try:\n",
    "    result = 10 / 0\n",
    "except ZeroDivisionError:\n",
    "    print(\"Cannot divide by zero.\")\n",
    "finally:\n",
    "    print(\"This will always be printed.\")\n"
   ]
  },
  {
   "cell_type": "code",
   "execution_count": null,
   "id": "5cc4d759-060f-4beb-a1c5-a72a7430a6dd",
   "metadata": {},
   "outputs": [],
   "source": [
    "#c. raise:\n",
    "#The raise statement is used to manually raise an exception.\n",
    "\n"
   ]
  }
 ],
 "metadata": {
  "kernelspec": {
   "display_name": "Python 3 (ipykernel)",
   "language": "python",
   "name": "python3"
  },
  "language_info": {
   "codemirror_mode": {
    "name": "ipython",
    "version": 3
   },
   "file_extension": ".py",
   "mimetype": "text/x-python",
   "name": "python",
   "nbconvert_exporter": "python",
   "pygments_lexer": "ipython3",
   "version": "3.10.8"
  }
 },
 "nbformat": 4,
 "nbformat_minor": 5
}
