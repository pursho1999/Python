{
  "nbformat": 4,
  "nbformat_minor": 0,
  "metadata": {
    "colab": {
      "provenance": []
    },
    "kernelspec": {
      "name": "python3",
      "display_name": "Python 3"
    },
    "language_info": {
      "name": "python"
    }
  },
  "cells": [
    {
      "cell_type": "markdown",
      "source": [
        "Assignment 1\n"
      ],
      "metadata": {
        "id": "dc4lWwlWBOl0"
      }
    },
    {
      "cell_type": "markdown",
      "source": [
        "Q1. Create one variable containing following type of data:\n",
        "(i) string\n",
        "(ii) list\n",
        "(iii) float\n",
        "(iv) tuple"
      ],
      "metadata": {
        "id": "TlS2n9pDBT96"
      }
    },
    {
      "cell_type": "code",
      "source": [
        "strr=\"hello world\"\n",
        "strr"
      ],
      "metadata": {
        "colab": {
          "base_uri": "https://localhost:8080/",
          "height": 35
        },
        "id": "VXzwb0XmBRcR",
        "outputId": "76762386-0728-4f4c-97c9-11c93e0cc2af"
      },
      "execution_count": 4,
      "outputs": [
        {
          "output_type": "execute_result",
          "data": {
            "text/plain": [
              "'hello world'"
            ],
            "application/vnd.google.colaboratory.intrinsic+json": {
              "type": "string"
            }
          },
          "metadata": {},
          "execution_count": 4
        }
      ]
    },
    {
      "cell_type": "code",
      "source": [
        "li=[1,2,3,4,5]\n",
        "li"
      ],
      "metadata": {
        "colab": {
          "base_uri": "https://localhost:8080/"
        },
        "id": "TKLWfCWTBjfY",
        "outputId": "ead5cfb0-4ad7-4b3c-d4b2-397477d56d4c"
      },
      "execution_count": 5,
      "outputs": [
        {
          "output_type": "execute_result",
          "data": {
            "text/plain": [
              "[1, 2, 3, 4, 5]"
            ]
          },
          "metadata": {},
          "execution_count": 5
        }
      ]
    },
    {
      "cell_type": "code",
      "source": [
        "floatv=3.14\n",
        "floatv"
      ],
      "metadata": {
        "colab": {
          "base_uri": "https://localhost:8080/"
        },
        "id": "mbpzCQwJBmFp",
        "outputId": "6e5e8ce4-5b7c-4574-d54a-640198820b21"
      },
      "execution_count": 7,
      "outputs": [
        {
          "output_type": "execute_result",
          "data": {
            "text/plain": [
              "3.14"
            ]
          },
          "metadata": {},
          "execution_count": 7
        }
      ]
    },
    {
      "cell_type": "code",
      "source": [
        "tuplee=(1,2,3,4,5,6)\n",
        "tuplee"
      ],
      "metadata": {
        "colab": {
          "base_uri": "https://localhost:8080/"
        },
        "id": "OS396E0vBpVS",
        "outputId": "07f55efb-301b-4af8-e374-ae233a2fa416"
      },
      "execution_count": 8,
      "outputs": [
        {
          "output_type": "execute_result",
          "data": {
            "text/plain": [
              "(1, 2, 3, 4, 5, 6)"
            ]
          },
          "metadata": {},
          "execution_count": 8
        }
      ]
    },
    {
      "cell_type": "markdown",
      "source": [
        "Q2. Given are some following variables containing data:\n",
        "\n",
        "(i) var1 = ‘ ‘\n",
        "\n",
        "(ii) var2 = ‘[ DS , ML , Python]’\n",
        "\n",
        "(iii) var3 = [ ‘DS’ , ’ML’ , ‘Python’ ]\n",
        "\n",
        "(iv) var4 = 1.\n",
        "\n",
        "What will be the data type of the above given variable."
      ],
      "metadata": {
        "id": "en7VOLoxCB_R"
      }
    },
    {
      "cell_type": "markdown",
      "source": [],
      "metadata": {
        "id": "0HNcqo6xCkm0"
      }
    },
    {
      "cell_type": "code",
      "source": [
        "var1=''\n",
        "type(var1)"
      ],
      "metadata": {
        "colab": {
          "base_uri": "https://localhost:8080/"
        },
        "id": "opoNXsjLCEll",
        "outputId": "df044bc0-5e8f-4bd5-a10b-a7f206631dd5"
      },
      "execution_count": 10,
      "outputs": [
        {
          "output_type": "execute_result",
          "data": {
            "text/plain": [
              "str"
            ]
          },
          "metadata": {},
          "execution_count": 10
        }
      ]
    },
    {
      "cell_type": "code",
      "source": [
        "var2 = '[ DS , ML , Python]'\n",
        "type(var2)"
      ],
      "metadata": {
        "colab": {
          "base_uri": "https://localhost:8080/"
        },
        "id": "LpNHRKWZCfcO",
        "outputId": "a0e6dfa5-0163-4498-f957-d5d6b975fd20"
      },
      "execution_count": 16,
      "outputs": [
        {
          "output_type": "execute_result",
          "data": {
            "text/plain": [
              "str"
            ]
          },
          "metadata": {},
          "execution_count": 16
        }
      ]
    },
    {
      "cell_type": "code",
      "source": [
        "var3=['DS','ML','Python']\n",
        "type(var3)"
      ],
      "metadata": {
        "colab": {
          "base_uri": "https://localhost:8080/"
        },
        "id": "qbJsRlgYCizK",
        "outputId": "a4f0abce-8f6a-4737-95b8-ccdbe64b39fd"
      },
      "execution_count": 18,
      "outputs": [
        {
          "output_type": "execute_result",
          "data": {
            "text/plain": [
              "list"
            ]
          },
          "metadata": {},
          "execution_count": 18
        }
      ]
    },
    {
      "cell_type": "code",
      "source": [
        "var4=1.\n",
        "type(var4)"
      ],
      "metadata": {
        "colab": {
          "base_uri": "https://localhost:8080/"
        },
        "id": "BQLmuJeSDCVS",
        "outputId": "f9378102-776e-47eb-aed4-5cc3c3f0b877"
      },
      "execution_count": 20,
      "outputs": [
        {
          "output_type": "execute_result",
          "data": {
            "text/plain": [
              "float"
            ]
          },
          "metadata": {},
          "execution_count": 20
        }
      ]
    },
    {
      "cell_type": "markdown",
      "source": [
        "Q3. Explain the use of the following operators using an example:\n",
        "\n",
        "(i) /\n",
        "\n",
        "(ii) %\n",
        "\n",
        "(iii) //\n",
        "\n",
        "(iv) **"
      ],
      "metadata": {
        "id": "z_9XcuinDT5q"
      }
    },
    {
      "cell_type": "code",
      "source": [
        "#1  '/' (Division Operator)\n",
        "#The '/' operator is used for division,it returns the quotient of the division operation\n",
        "\n",
        "a=10\n",
        "b=2\n",
        "c=a/b\n",
        "c"
      ],
      "metadata": {
        "colab": {
          "base_uri": "https://localhost:8080/"
        },
        "id": "BBq1mQ8FDXuS",
        "outputId": "b4486dc3-6517-46d3-ac40-12470eabf4a5"
      },
      "execution_count": 22,
      "outputs": [
        {
          "output_type": "execute_result",
          "data": {
            "text/plain": [
              "5.0"
            ]
          },
          "metadata": {},
          "execution_count": 22
        }
      ]
    },
    {
      "cell_type": "code",
      "source": [
        "#2    '%' (Modulus Operator):\n",
        "#The '%' operator calculates the remainder of a division operation.\n",
        "\n",
        "a=10\n",
        "b=3\n",
        "c=a%b\n",
        "c"
      ],
      "metadata": {
        "colab": {
          "base_uri": "https://localhost:8080/"
        },
        "id": "nrmQiVQRDvfV",
        "outputId": "570119d5-404f-4e77-83fc-6a7dfbe605af"
      },
      "execution_count": 25,
      "outputs": [
        {
          "output_type": "execute_result",
          "data": {
            "text/plain": [
              "1"
            ]
          },
          "metadata": {},
          "execution_count": 25
        }
      ]
    },
    {
      "cell_type": "code",
      "source": [
        "#3   '//' (Floor Division Operator):\n",
        "#The '//' operator performs floor division, it also discards the fractional unit\n",
        "#which returns the quotient of the division rounded down to the nearest integer.\n",
        "\n",
        "a=10\n",
        "b=3\n",
        "c=a//b\n",
        "c"
      ],
      "metadata": {
        "colab": {
          "base_uri": "https://localhost:8080/"
        },
        "id": "PVDHHr0YD-Yu",
        "outputId": "39428c58-0d1e-450c-938d-38249b2de9d7"
      },
      "execution_count": 26,
      "outputs": [
        {
          "output_type": "execute_result",
          "data": {
            "text/plain": [
              "3"
            ]
          },
          "metadata": {},
          "execution_count": 26
        }
      ]
    },
    {
      "cell_type": "code",
      "source": [
        "#4   '**' (Exponentiation Operator or power operator:\n",
        "#The '**' operator is used to raise a number to a certain power.\n",
        "\n",
        "a=10\n",
        "b=2\n",
        "c=a**b\n",
        "c"
      ],
      "metadata": {
        "colab": {
          "base_uri": "https://localhost:8080/"
        },
        "id": "wNTVUQu1EcFD",
        "outputId": "27f237e8-e779-4faf-ee66-2d29316e768c"
      },
      "execution_count": 27,
      "outputs": [
        {
          "output_type": "execute_result",
          "data": {
            "text/plain": [
              "100"
            ]
          },
          "metadata": {},
          "execution_count": 27
        }
      ]
    },
    {
      "cell_type": "markdown",
      "source": [
        "Q4. Create a list of length 10 of your choice containing multiple types of data. Using for loop print the\n",
        "element and its data type."
      ],
      "metadata": {
        "id": "pDfd2jJgE0_7"
      }
    },
    {
      "cell_type": "code",
      "source": [
        "li=[1,2.2,'hello',True,[1,2,3],(1,2,3),{1,2,3},\"python\",4+1j,bin(10)]\n",
        "for i in li:\n",
        "  print(\"Element:\",i)\n",
        "  print(\"DataType:\",type(i))\n",
        "  print(\"--------\")"
      ],
      "metadata": {
        "colab": {
          "base_uri": "https://localhost:8080/"
        },
        "id": "22TdxjL3E1-U",
        "outputId": "a6923d18-5b64-4ce6-d5e1-ad2d4f637724"
      },
      "execution_count": 29,
      "outputs": [
        {
          "output_type": "stream",
          "name": "stdout",
          "text": [
            "Element: 1\n",
            "DataType: <class 'int'>\n",
            "--------\n",
            "Element: 2.2\n",
            "DataType: <class 'float'>\n",
            "--------\n",
            "Element: hello\n",
            "DataType: <class 'str'>\n",
            "--------\n",
            "Element: True\n",
            "DataType: <class 'bool'>\n",
            "--------\n",
            "Element: [1, 2, 3]\n",
            "DataType: <class 'list'>\n",
            "--------\n",
            "Element: (1, 2, 3)\n",
            "DataType: <class 'tuple'>\n",
            "--------\n",
            "Element: {1, 2, 3}\n",
            "DataType: <class 'set'>\n",
            "--------\n",
            "Element: python\n",
            "DataType: <class 'str'>\n",
            "--------\n",
            "Element: (4+1j)\n",
            "DataType: <class 'complex'>\n",
            "--------\n",
            "Element: 0b1010\n",
            "DataType: <class 'str'>\n",
            "--------\n"
          ]
        }
      ]
    },
    {
      "cell_type": "markdown",
      "source": [
        "Q5. Using a while loop, verify if the number A is purely divisible by number B and if so then how many\n",
        "times it can be divisible."
      ],
      "metadata": {
        "id": "dBKGZo78GPZp"
      }
    },
    {
      "cell_type": "code",
      "source": [
        "a=10\n",
        "b=2\n",
        "count=0\n",
        "while a % b ==0:\n",
        "  count=count+1\n",
        "  a=a/b\n",
        "print(\"A is div by B by:\",count,\"times\")"
      ],
      "metadata": {
        "colab": {
          "base_uri": "https://localhost:8080/"
        },
        "id": "cep3Y8ULGQV6",
        "outputId": "ddcffe93-3f98-4f19-fad6-20adc47d4ada"
      },
      "execution_count": 39,
      "outputs": [
        {
          "output_type": "stream",
          "name": "stdout",
          "text": [
            "A is div by B by: 1 times\n"
          ]
        }
      ]
    },
    {
      "cell_type": "markdown",
      "source": [
        "Q6. Create a list containing 25 int type data. Using for loop and if-else condition print if the element is\n",
        "divisible by 3 or not."
      ],
      "metadata": {
        "id": "B5mjKXZmJypW"
      }
    },
    {
      "cell_type": "code",
      "source": [
        "li = [2, 5, 6, 9, 10, 12, 15, 18, 20, 21, 24, 27, 30, 33, 36, 39, 40, 42, 45, 48, 50, 51, 54, 57, 60]\n",
        "\n",
        "for n in li:\n",
        "    if n % 3 == 0:\n",
        "        print(n, \": is divisible by 3\")\n",
        "    else:\n",
        "        print(n, \": is not divisible by 3\")\n"
      ],
      "metadata": {
        "colab": {
          "base_uri": "https://localhost:8080/"
        },
        "id": "hYyD2ZlHIlyM",
        "outputId": "daa605ca-e39e-47ab-9db5-5c327c34ad49"
      },
      "execution_count": 41,
      "outputs": [
        {
          "output_type": "stream",
          "name": "stdout",
          "text": [
            "2 : is not divisible by 3\n",
            "5 : is not divisible by 3\n",
            "6 : is divisible by 3\n",
            "9 : is divisible by 3\n",
            "10 : is not divisible by 3\n",
            "12 : is divisible by 3\n",
            "15 : is divisible by 3\n",
            "18 : is divisible by 3\n",
            "20 : is not divisible by 3\n",
            "21 : is divisible by 3\n",
            "24 : is divisible by 3\n",
            "27 : is divisible by 3\n",
            "30 : is divisible by 3\n",
            "33 : is divisible by 3\n",
            "36 : is divisible by 3\n",
            "39 : is divisible by 3\n",
            "40 : is not divisible by 3\n",
            "42 : is divisible by 3\n",
            "45 : is divisible by 3\n",
            "48 : is divisible by 3\n",
            "50 : is not divisible by 3\n",
            "51 : is divisible by 3\n",
            "54 : is divisible by 3\n",
            "57 : is divisible by 3\n",
            "60 : is divisible by 3\n"
          ]
        }
      ]
    },
    {
      "cell_type": "markdown",
      "source": [
        "Q7. What do you understand about mutable and immutable data types? Give examples for both showing\n",
        "this property."
      ],
      "metadata": {
        "id": "L3TkLAywJ49b"
      }
    },
    {
      "cell_type": "code",
      "source": [
        "\"\"\"\n",
        "Mutable:If we are able to change something at a particlular index for a particular\n",
        "        collection of datatype then it is known as mutuable\n",
        "        EG:-\n",
        "\"\"\"\n",
        "li=[1,3,4,\"purshottam\",True, 4+8j]\n",
        "li[1]=\"psi\"\n",
        "li\n",
        "\n",
        "#as the value of index 2 is changed then it is mutable"
      ],
      "metadata": {
        "colab": {
          "base_uri": "https://localhost:8080/"
        },
        "id": "x_AEfwSrJ-ur",
        "outputId": "23d4e284-ded2-496b-ed51-a5a34e9190b6"
      },
      "execution_count": 44,
      "outputs": [
        {
          "output_type": "execute_result",
          "data": {
            "text/plain": [
              "[1, 'psi', 4, 'purshottam', True, (4+8j)]"
            ]
          },
          "metadata": {},
          "execution_count": 44
        }
      ]
    },
    {
      "cell_type": "code",
      "source": [
        "\"\"\"\n",
        "Immutable:If we are not being able to change something at a particlular index\n",
        "          then it is known as Immutuable\n",
        "          and it will throw a warnig of\n",
        "          \"'tuple' object does not support item assignment\"\n",
        "        EG:-\n",
        "\"\"\"\n",
        "p='q','w','e','r','t','y'\n",
        "p[2]='s'\n",
        "p\n",
        "\n",
        "#as the value did not change then it is immutable"
      ],
      "metadata": {
        "colab": {
          "base_uri": "https://localhost:8080/",
          "height": 229
        },
        "id": "gL7O3mcSLScJ",
        "outputId": "be793223-0e82-496f-a96a-42592353f57f"
      },
      "execution_count": 47,
      "outputs": [
        {
          "output_type": "error",
          "ename": "TypeError",
          "evalue": "ignored",
          "traceback": [
            "\u001b[0;31m---------------------------------------------------------------------------\u001b[0m",
            "\u001b[0;31mTypeError\u001b[0m                                 Traceback (most recent call last)",
            "\u001b[0;32m<ipython-input-47-188d5a548e47>\u001b[0m in \u001b[0;36m<cell line: 7>\u001b[0;34m()\u001b[0m\n\u001b[1;32m      5\u001b[0m \"\"\"\n\u001b[1;32m      6\u001b[0m \u001b[0mp\u001b[0m\u001b[0;34m=\u001b[0m\u001b[0;34m'q'\u001b[0m\u001b[0;34m,\u001b[0m\u001b[0;34m'w'\u001b[0m\u001b[0;34m,\u001b[0m\u001b[0;34m'e'\u001b[0m\u001b[0;34m,\u001b[0m\u001b[0;34m'r'\u001b[0m\u001b[0;34m,\u001b[0m\u001b[0;34m't'\u001b[0m\u001b[0;34m,\u001b[0m\u001b[0;34m'y'\u001b[0m\u001b[0;34m\u001b[0m\u001b[0;34m\u001b[0m\u001b[0m\n\u001b[0;32m----> 7\u001b[0;31m \u001b[0mp\u001b[0m\u001b[0;34m[\u001b[0m\u001b[0;36m2\u001b[0m\u001b[0;34m]\u001b[0m\u001b[0;34m=\u001b[0m\u001b[0;34m's'\u001b[0m\u001b[0;34m\u001b[0m\u001b[0;34m\u001b[0m\u001b[0m\n\u001b[0m\u001b[1;32m      8\u001b[0m \u001b[0mp\u001b[0m\u001b[0;34m\u001b[0m\u001b[0;34m\u001b[0m\u001b[0m\n",
            "\u001b[0;31mTypeError\u001b[0m: 'tuple' object does not support item assignment"
          ]
        }
      ]
    },
    {
      "cell_type": "code",
      "source": [],
      "metadata": {
        "id": "d2tfmUDGL0Rr"
      },
      "execution_count": null,
      "outputs": []
    }
  ]
}