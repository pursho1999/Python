{
 "cells": [
  {
   "cell_type": "markdown",
   "id": "2bbaa823-3f79-4bd9-b52f-b68a0bfae768",
   "metadata": {},
   "source": [
    "## Q1. Explain Class and Object with respect to Object-Oriented Programming. Give a suitable example."
   ]
  },
  {
   "cell_type": "markdown",
   "id": "e7f5a99b-a6d2-4fe6-9916-4efe0298d7ca",
   "metadata": {},
   "source": [
    "Class:\n",
    "A class is a blueprint for creating objects (a particular data structure). It defines a set of attributes and methods that the created objects will have. A class doesn't contain actual data, but defines what data the objects of the class will contain and what actions they can perform.\n",
    "\n",
    "Object:\n",
    "An object is an instance of a class. It is a concrete entity based on the class blueprint, containing real data and methods as defined by the class. Each object can have unique values for its attributes."
   ]
  },
  {
   "cell_type": "code",
   "execution_count": 3,
   "id": "2c6d8de1-ecd7-4317-a2e8-940bf5201dae",
   "metadata": {},
   "outputs": [
    {
     "name": "stdout",
     "output_type": "stream",
     "text": [
      "Car: Toyota Corolla, Year: 2020\n",
      "Car: Honda Civic, Year: 2019\n"
     ]
    }
   ],
   "source": [
    "\n",
    "class Car:\n",
    "    def __init__(self, brand, model, year):\n",
    "        self.brand = brand\n",
    "        self.model = model\n",
    "        self.year = year\n",
    "    \n",
    "    def display_info(self):\n",
    "        print(f\"Car: {self.brand} {self.model}, Year: {self.year}\")\n",
    "\n",
    "car1 = Car(\"Toyota\", \"Corolla\", 2020)\n",
    "car2 = Car(\"Honda\", \"Civic\", 2019)\n",
    "\n",
    "car1.display_info()\n",
    "car2.display_info()\n"
   ]
  },
  {
   "cell_type": "markdown",
   "id": "d2c01237-9ffb-4acb-b306-b5c84b64434d",
   "metadata": {},
   "source": [
    "## Q2. Name the four pillars of OOPs."
   ]
  },
  {
   "cell_type": "markdown",
   "id": "f5985fa5-5cbd-4446-9489-75a2ef1952ed",
   "metadata": {},
   "source": [
    "Encapsulation\n",
    "Abstraction\n",
    "Inheritance\n",
    "Polymorphism"
   ]
  },
  {
   "cell_type": "markdown",
   "id": "8de27f98-fb5c-4f2c-9dd8-f7255a794b95",
   "metadata": {},
   "source": [
    "## Q3. Explain why the __init__() function is used. Give a suitable example."
   ]
  },
  {
   "cell_type": "markdown",
   "id": "c187084c-453e-4489-b292-b57450045aca",
   "metadata": {},
   "source": [
    "The __init__() function is a special method in Python, known as a constructor. It is called automatically when a new instance of a class is created. It allows the class to initialize the attributes of the object with specific values."
   ]
  },
  {
   "cell_type": "code",
   "execution_count": 4,
   "id": "1e80c981-deb7-4d30-9dd7-bee69f9c34df",
   "metadata": {},
   "outputs": [
    {
     "name": "stdout",
     "output_type": "stream",
     "text": [
      "Hello, my name is Alice and I am 30 years old.\n"
     ]
    }
   ],
   "source": [
    "class Person:\n",
    "    def __init__(self, name, age):\n",
    "        self.name = name\n",
    "        self.age = age\n",
    "    \n",
    "    def greet(self):\n",
    "        print(f\"Hello, my name is {self.name} and I am {self.age} years old.\")\n",
    "\n",
    "\n",
    "person1 = Person(\"Alice\", 30)\n",
    "person1.greet()\n"
   ]
  },
  {
   "cell_type": "markdown",
   "id": "758efad7-f6fe-40b8-85bd-4b1ad9e5b197",
   "metadata": {},
   "source": [
    "## Q4. Why self is used in OOPs?"
   ]
  },
  {
   "cell_type": "markdown",
   "id": "2ad98f1f-472c-4f12-b2a2-5a8abc757a9a",
   "metadata": {},
   "source": [
    "self is used in object-oriented programming to refer to the instance of the class on which the method is being called. It allows access to the attributes and methods of the class in the current object context. Without self, the methods and attributes cannot be accessed or modified correctly within class methods."
   ]
  },
  {
   "cell_type": "markdown",
   "id": "6ed92c45-8e3c-4dc7-9813-2080823da791",
   "metadata": {},
   "source": [
    "## Q5. What is inheritance? Give an example for each type of inheritance."
   ]
  },
  {
   "cell_type": "markdown",
   "id": "4ec02a49-f398-43c0-8c93-7dd5b5ad99e5",
   "metadata": {},
   "source": [
    "Inheritance is a fundamental concept in OOP that allows a class to inherit properties and behavior (methods) from another class. The class that inherits is called the child or subclass, and the class being inherited from is called the parent or superclass."
   ]
  },
  {
   "cell_type": "code",
   "execution_count": 5,
   "id": "f3c4526b-f550-4ced-9c12-95d6a176013a",
   "metadata": {},
   "outputs": [
    {
     "name": "stdout",
     "output_type": "stream",
     "text": [
      "Some sound\n",
      "Bark\n"
     ]
    }
   ],
   "source": [
    "#single Inheritance\n",
    "class Animal:\n",
    "    def make_sound(self):\n",
    "        print(\"Some sound\")\n",
    "\n",
    "class Dog(Animal):\n",
    "    def bark(self):\n",
    "        print(\"Bark\")\n",
    "\n",
    "dog = Dog()\n",
    "dog.make_sound()  \n",
    "dog.bark() \n"
   ]
  },
  {
   "cell_type": "code",
   "execution_count": 9,
   "id": "b15c2521-4caf-4ac9-a814-3b5c610c6f95",
   "metadata": {},
   "outputs": [
    {
     "name": "stdout",
     "output_type": "stream",
     "text": [
      "Walking on land\n",
      "Swimming in water\n"
     ]
    }
   ],
   "source": [
    "#multipe inheritance\n",
    "class LandAnimal:\n",
    "    def walk(self):\n",
    "        print(\"Walking on land\")\n",
    "\n",
    "class WaterAnimal:\n",
    "    def swim(self):\n",
    "        print(\"Swimming in water\")\n",
    "\n",
    "class Frog(LandAnimal, WaterAnimal):\n",
    "    pass\n",
    "\n",
    "frog = Frog()\n",
    "frog.walk() \n",
    "frog.swim() "
   ]
  },
  {
   "cell_type": "code",
   "execution_count": 10,
   "id": "e3278060-f009-4d43-8c18-b942924d8943",
   "metadata": {},
   "outputs": [
    {
     "name": "stdout",
     "output_type": "stream",
     "text": [
      "Eating\n",
      "Breathing\n",
      "Barking\n"
     ]
    }
   ],
   "source": [
    "#multilevel inheritance\n",
    "\n",
    "class Animal:\n",
    "    def eat(self):\n",
    "        print(\"Eating\")\n",
    "\n",
    "class Mammal(Animal):\n",
    "    def breathe(self):\n",
    "        print(\"Breathing\")\n",
    "\n",
    "class Dog(Mammal):\n",
    "    def bark(self):\n",
    "        print(\"Barking\")\n",
    "\n",
    "dog = Dog()\n",
    "dog.eat()  \n",
    "dog.breathe()  \n",
    "dog.bark()  \n"
   ]
  },
  {
   "cell_type": "code",
   "execution_count": 12,
   "id": "f044ec31-15bb-4a36-a3df-e2cbe59ba424",
   "metadata": {},
   "outputs": [
    {
     "name": "stdout",
     "output_type": "stream",
     "text": [
      "Eating\n",
      "Meowing\n",
      "Eating\n",
      "Barking\n"
     ]
    }
   ],
   "source": [
    "# hierarchical Inheritance\n",
    "class Animal:\n",
    "    def eat(self):\n",
    "        print(\"Eating\")\n",
    "\n",
    "class Cat(Animal):\n",
    "    def meow(self):\n",
    "        print(\"Meowing\")\n",
    "\n",
    "class Dog(Animal):\n",
    "    def bark(self):\n",
    "        print(\"Barking\")\n",
    "\n",
    "cat = Cat()\n",
    "cat.eat()  \n",
    "cat.meow()  \n",
    "\n",
    "dog = Dog()\n",
    "dog.eat()  \n",
    "dog.bark()  "
   ]
  },
  {
   "cell_type": "code",
   "execution_count": 14,
   "id": "08f0ca79-9812-4825-9977-2f220b8fed82",
   "metadata": {},
   "outputs": [
    {
     "name": "stdout",
     "output_type": "stream",
     "text": [
      "Eating\n",
      "Walking\n",
      "Flying\n"
     ]
    }
   ],
   "source": [
    "# hybrid inheritance\n",
    "class Animal:\n",
    "    def eat(self):\n",
    "        print(\"Eating\")\n",
    "\n",
    "class Bird(Animal):\n",
    "    def fly(self):\n",
    "        print(\"Flying\")\n",
    "\n",
    "class Mammal(Animal):\n",
    "    def walk(self):\n",
    "        print(\"Walking\")\n",
    "\n",
    "class Bat(Mammal, Bird):\n",
    "    pass\n",
    "\n",
    "bat = Bat()\n",
    "bat.eat() \n",
    "bat.walk() \n",
    "bat.fly()  \n"
   ]
  },
  {
   "cell_type": "code",
   "execution_count": null,
   "id": "4186e8b2-63ff-4e16-99e9-fc9cd87b5ac3",
   "metadata": {},
   "outputs": [],
   "source": []
  }
 ],
 "metadata": {
  "kernelspec": {
   "display_name": "Python 3 (ipykernel)",
   "language": "python",
   "name": "python3"
  },
  "language_info": {
   "codemirror_mode": {
    "name": "ipython",
    "version": 3
   },
   "file_extension": ".py",
   "mimetype": "text/x-python",
   "name": "python",
   "nbconvert_exporter": "python",
   "pygments_lexer": "ipython3",
   "version": "3.10.8"
  }
 },
 "nbformat": 4,
 "nbformat_minor": 5
}
