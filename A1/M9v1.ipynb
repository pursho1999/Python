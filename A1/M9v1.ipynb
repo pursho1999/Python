{
 "cells": [
  {
   "cell_type": "markdown",
   "id": "a586071b-946c-4a11-bea4-43bd0473efec",
   "metadata": {},
   "source": [
    "## Q1, Create a vehicle class with an init method having instance variables as name_of_vehicle, max_speed and average_of_vehicle."
   ]
  },
  {
   "cell_type": "code",
   "execution_count": 9,
   "id": "71cc08ef-cb10-4882-871b-8d84fc54d002",
   "metadata": {},
   "outputs": [
    {
     "data": {
      "text/plain": [
       "('TATA', 200, 24.5)"
      ]
     },
     "execution_count": 9,
     "metadata": {},
     "output_type": "execute_result"
    }
   ],
   "source": [
    "class vehicle:\n",
    "    \n",
    "    def __init__(self, name_of_vehicle, max_speed, average_of_vehicle):\n",
    "        self.name_of_vehicle = name_of_vehicle\n",
    "        self.max_speed = max_speed\n",
    "        self.average_of_vehicle = average_of_vehicle\n",
    "        \n",
    "    def return_vehicle_info(self):\n",
    "        return self.name_of_vehicle, self.max_speed, self.average_of_vehicle\n",
    "\n",
    "\n",
    "v = vehicle(\"TATA\", 200, 24.5)\n",
    "v.return_vehicle_info()\n",
    "\n"
   ]
  },
  {
   "cell_type": "markdown",
   "id": "ee273931-b284-451d-864d-39f3201cb32b",
   "metadata": {},
   "source": [
    "## Q2. Create a child class car from the vehicle class created in Que 1, which will inherit the vehicle class.\n",
    "### Create a method named seating_capacity which takes capacity as an argument and returns the name of the vehicle and its seating capacity."
   ]
  },
  {
   "cell_type": "code",
   "execution_count": 10,
   "id": "9a0ebd32-7b30-4cfd-986c-ea52a12c0edb",
   "metadata": {},
   "outputs": [
    {
     "name": "stdout",
     "output_type": "stream",
     "text": [
      "('TATA', 200, 24.5)\n",
      "7\n"
     ]
    }
   ],
   "source": [
    "class child_vehicle(vehicle):\n",
    "    def __init__(self, name_of_vehicle, max_speed, average_of_vehicle, seating_capacity):\n",
    "        super().__init__(name_of_vehicle, max_speed, average_of_vehicle)\n",
    "        self.seating_capacity = seating_capacity\n",
    "        \n",
    "    def return_seating_info(self):\n",
    "        return self.seating_capacity\n",
    "\n",
    "\n",
    "cv = child_vehicle(\"TATA\", 200, 24.5, 7)\n",
    "\n",
    "# Get vehicle info\n",
    "vehicle_info = cv.return_vehicle_info()\n",
    "print(vehicle_info) \n",
    "\n",
    "# Get seating info\n",
    "seating_info = cv.return_seating_info()\n",
    "print(seating_info)  \n"
   ]
  },
  {
   "cell_type": "markdown",
   "id": "37c450ee-0714-46f5-8154-fd29e598f7b0",
   "metadata": {},
   "source": [
    "## Q3. What is multiple inheritance? Write a python code to demonstrate multiple inheritance."
   ]
  },
  {
   "cell_type": "markdown",
   "id": "c1da22cc-2111-400d-8e85-fb86c4d79932",
   "metadata": {},
   "source": [
    "Multiple inheritance is a feature of object-oriented programming where a class can inherit attributes and methods from more than one parent class. This allows the child class to utilize the features of multiple parent classes."
   ]
  },
  {
   "cell_type": "code",
   "execution_count": 11,
   "id": "419aa20e-b729-4a56-a836-55e97933593e",
   "metadata": {},
   "outputs": [
    {
     "name": "stdout",
     "output_type": "stream",
     "text": [
      "Feature A\n",
      "Feature B\n",
      "Feature C\n"
     ]
    }
   ],
   "source": [
    "\n",
    "class A:\n",
    "    def feature_a(self):\n",
    "        return \"Feature A\"\n",
    "\n",
    "\n",
    "class B:\n",
    "    def feature_b(self):\n",
    "        return \"Feature B\"\n",
    "\n",
    "\n",
    "class C(A, B):\n",
    "    def feature_c(self):\n",
    "        return \"Feature C\"\n",
    "\n",
    "obj = C()\n",
    "\n",
    "\n",
    "print(obj.feature_a())  \n",
    "print(obj.feature_b())  \n",
    "print(obj.feature_c())  \n"
   ]
  },
  {
   "cell_type": "markdown",
   "id": "67e00909-597e-4ae7-9562-97b3e814a65a",
   "metadata": {},
   "source": [
    "## Q4. What are getter and setter in python? Create a class and create a getter and a setter method in this class."
   ]
  },
  {
   "cell_type": "markdown",
   "id": "519faf3c-1f82-47a6-9114-2d6a7aeb08c3",
   "metadata": {},
   "source": [
    "In Python, getters and setters are methods used to access and update the values of private attributes in a class. These methods provide a way to encapsulate and protect the data by controlling how attributes are accessed and modified.\n",
    "\n",
    "    Getter: A method that retrieves the value of an attribute.\n",
    "    Setter: A method that updates the value of an attribute."
   ]
  },
  {
   "cell_type": "code",
   "execution_count": 12,
   "id": "060d2af9-3341-49b7-9c47-ccf0a6b08afc",
   "metadata": {},
   "outputs": [
    {
     "name": "stdout",
     "output_type": "stream",
     "text": [
      "Alice\n",
      "20\n",
      "Bob\n",
      "22\n",
      "Age must be positive\n"
     ]
    }
   ],
   "source": [
    "class Student:\n",
    "    def __init__(self, name, age):\n",
    "        self.__name = name  \n",
    "        self.__age = age    \n",
    " \n",
    "    @property\n",
    "    def name(self):\n",
    "        return self.__name\n",
    "\n",
    "   \n",
    "    @name.setter\n",
    "    def name(self, name):\n",
    "        self.__name = name\n",
    "\n",
    "    @property\n",
    "    def age(self):\n",
    "        return self.__age\n",
    "\n",
    "    @age.setter\n",
    "    def age(self, age):\n",
    "        if age > 0:\n",
    "            self.__age = age\n",
    "        else:\n",
    "            raise ValueError(\"Age must be positive\")\n",
    "\n",
    "student = Student(\"Alice\", 20)\n",
    "\n",
    "print(student.name)  \n",
    "print(student.age)   \n",
    "\n",
    "\n",
    "student.name = \"Bob\"\n",
    "student.age = 22\n",
    "\n",
    "\n",
    "print(student.name)  \n",
    "print(student.age)   \n",
    "\n",
    "try:\n",
    "    student.age = -5\n",
    "except ValueError as e:\n",
    "    print(e)  \n"
   ]
  },
  {
   "cell_type": "markdown",
   "id": "c58fe5f7-959d-43e5-ba18-c1d75be50fec",
   "metadata": {},
   "source": [
    "OR"
   ]
  },
  {
   "cell_type": "code",
   "execution_count": 14,
   "id": "5e889fbc-8795-43c7-9c43-e14dc1df9076",
   "metadata": {},
   "outputs": [
    {
     "data": {
      "text/plain": [
       "10"
      ]
     },
     "execution_count": 14,
     "metadata": {},
     "output_type": "execute_result"
    }
   ],
   "source": [
    "class car:\n",
    "    def __init__(self,year,make,model,speed):\n",
    "        self.__year=year #__ se data user se chup jata hai yeh private hua.. so acces nai  kr payega\n",
    "        self.__make=make\n",
    "        self.__make=model\n",
    "        self.__speed=0 #by default value\n",
    "        \n",
    "        #aap yaha se data get ya set karo ya \n",
    "        \n",
    "    def set_speed(self,speed):\n",
    "        self.__speed=0 if speed < 0 else speed\n",
    "        \n",
    "        #speed malum krna hai to\n",
    "    def get_speed(self):\n",
    "        return self.__speed\n",
    "    \n",
    "c= car(2024,\"tata\",\"harrier\",12)\n",
    "\n",
    "c.set_speed(10)\n",
    "c.get_speed()"
   ]
  },
  {
   "cell_type": "markdown",
   "id": "6be450e2-8f7b-4563-b172-3ef2ce67afde",
   "metadata": {},
   "source": [
    "## Q5.What is method overriding in python? Write a python code to demonstrate method overriding."
   ]
  },
  {
   "cell_type": "markdown",
   "id": "ffa4083f-41e7-493d-9db8-dd675a151e5a",
   "metadata": {},
   "source": [
    "Method overriding in Python occurs when a subclass (child class) has a method with the same name as a method in its superclass (parent class). The method in the subclass overrides the method in the superclass, meaning the subclass's method is called instead of the superclass's method when it is invoked on an instance of the subclass."
   ]
  },
  {
   "cell_type": "code",
   "execution_count": 1,
   "id": "dd026a17-74d4-4f54-a3b9-235f6799add6",
   "metadata": {},
   "outputs": [
    {
     "name": "stdout",
     "output_type": "stream",
     "text": [
      "Animal makes a sound\n",
      "Dog barks\n",
      "Cat meows\n"
     ]
    }
   ],
   "source": [
    "class Animal:\n",
    "    def speak(self):\n",
    "        return \"Animal makes a sound\"\n",
    "\n",
    "class Dog(Animal):\n",
    "    def speak(self):\n",
    "        return \"Dog barks\"\n",
    "\n",
    "class Cat(Animal):\n",
    "    def speak(self):\n",
    "        return \"Cat meows\"\n",
    "\n",
    "animal = Animal()\n",
    "dog = Dog()\n",
    "cat = Cat()\n",
    "\n",
    "print(animal.speak()) \n",
    "print(dog.speak())    \n",
    "print(cat.speak())     \n"
   ]
  },
  {
   "cell_type": "code",
   "execution_count": null,
   "id": "93c31401-b319-470a-9d2d-90edc70ca01e",
   "metadata": {},
   "outputs": [],
   "source": []
  }
 ],
 "metadata": {
  "kernelspec": {
   "display_name": "Python 3 (ipykernel)",
   "language": "python",
   "name": "python3"
  },
  "language_info": {
   "codemirror_mode": {
    "name": "ipython",
    "version": 3
   },
   "file_extension": ".py",
   "mimetype": "text/x-python",
   "name": "python",
   "nbconvert_exporter": "python",
   "pygments_lexer": "ipython3",
   "version": "3.10.8"
  }
 },
 "nbformat": 4,
 "nbformat_minor": 5
}
