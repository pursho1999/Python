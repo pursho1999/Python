{
  "nbformat": 4,
  "nbformat_minor": 0,
  "metadata": {
    "colab": {
      "provenance": [],
      "collapsed_sections": [
        "8wanYGO_yMlq"
      ]
    },
    "kernelspec": {
      "name": "python3",
      "display_name": "Python 3"
    },
    "language_info": {
      "name": "python"
    }
  },
  "cells": [
    {
      "cell_type": "markdown",
      "source": [
        "### **Q1. How do you comment code in Python? What are the different types of comments?**\n",
        "\n",
        "*Python code can be made more readable by adding comments to describe it.*\n",
        "*In Python, comments are denoted by the hash symbol (#) and extend to the end of the line.*"
      ],
      "metadata": {
        "id": "whLc2gSmlkO2"
      }
    },
    {
      "cell_type": "code",
      "execution_count": 1,
      "metadata": {
        "colab": {
          "base_uri": "https://localhost:8080/"
        },
        "id": "1sWh9Ekzlc4E",
        "outputId": "640b53a3-bd8e-4b6c-a661-d33913eb459a"
      },
      "outputs": [
        {
          "output_type": "stream",
          "name": "stdout",
          "text": [
            "Hello, World!\n"
          ]
        }
      ],
      "source": [
        "#This is a comment\n",
        "print(\"Hello, World!\")"
      ]
    },
    {
      "cell_type": "markdown",
      "source": [
        "The Different Types of comments are:\n",
        "\n",
        "**1.Single-line:** Start with # and extend to the end of the line.\n",
        "\n",
        "\n",
        "**2.Multi-line:** Use # on each line or triple quotes (\"\"\").\n",
        "\n",
        "**3.DocStrings:** Use triple quotes for multi-line comments (\"\"\" or ''')."
      ],
      "metadata": {
        "id": "XQy22DjsneVM"
      }
    },
    {
      "cell_type": "code",
      "source": [
        "#Single line comment\n",
        "print(\"Hello, World!\")"
      ],
      "metadata": {
        "colab": {
          "base_uri": "https://localhost:8080/"
        },
        "id": "GFHg_sBBnmss",
        "outputId": "f6d1c174-cb37-460c-e382-d4fa6a22488a"
      },
      "execution_count": 2,
      "outputs": [
        {
          "output_type": "stream",
          "name": "stdout",
          "text": [
            "Hello, World!\n"
          ]
        }
      ]
    },
    {
      "cell_type": "code",
      "source": [
        "\"\"\" Python program to demonstrate\n",
        " multiline comments\"\"\"\n",
        "print(\"Multiline comments1\")\n",
        "\n",
        "#Python program to\n",
        "#demonstrate multiline\n",
        "#comments\n",
        "print(\"Multiline comments2\")"
      ],
      "metadata": {
        "colab": {
          "base_uri": "https://localhost:8080/"
        },
        "id": "5Bvyf7qSonB9",
        "outputId": "e4990245-c205-44f3-a23b-5905962cc9f1"
      },
      "execution_count": 6,
      "outputs": [
        {
          "output_type": "stream",
          "name": "stdout",
          "text": [
            "Multiline comments1\n",
            "Multiline comments2\n"
          ]
        }
      ]
    },
    {
      "cell_type": "code",
      "source": [
        "#docstring\n",
        "def calculate_area(length, width):\n",
        "  \"\"\"\n",
        "  Calculates the area of a rectangle given its length and width.\n",
        "\n",
        "  Args:\n",
        "    length: The length of the rectangle.\n",
        "    width: The width of the rectangle.\n",
        "\n",
        "  Returns:\n",
        "    The area of the rectangle as a float.\n",
        "  \"\"\"\n",
        "  area = length * width\n",
        "  return area"
      ],
      "metadata": {
        "id": "aKkcrRLPo65W"
      },
      "execution_count": 7,
      "outputs": []
    },
    {
      "cell_type": "markdown",
      "source": [
        "### **Q2. What are variables in Python? How do you declare and assign values to variables?**\n",
        " *A Python variable is a reserved memory location to store values. In other words, a variable in a python program gives data to the computer for processing. Every value in Python has a datatype.*\n",
        "\n",
        " *Different data types in Python are Numbers, List, Tuple, Strings, Dictionary, etc. Variables can be declared by any name or even alphabets like a, aa, abc, etc*\n",
        "\n"
      ],
      "metadata": {
        "id": "8wanYGO_yMlq"
      }
    },
    {
      "cell_type": "markdown",
      "source": [
        "Declaring and assigning values to variables in Python is a straightforward process. Here's a step-by-step guide:\n",
        "\n",
        "* **Choose a Variable Name:** Start by choosing a meaningful name for your variable. It should reflect the type of information it will hold. For instance, if you're storing a person's name, 'name' would be an appropriate variable name.\n",
        "\n",
        "* **Assign a Value:** Use the assignment operator (=) to assign a value to your variable. For example:"
      ],
      "metadata": {
        "id": "DO-k-QJv1IvR"
      }
    },
    {
      "cell_type": "code",
      "source": [
        "name = \"Alice\"\n",
        "age = 25\n",
        "print(name,age)"
      ],
      "metadata": {
        "colab": {
          "base_uri": "https://localhost:8080/"
        },
        "id": "ZizYHnGe1Z7w",
        "outputId": "0aeaf9f1-2a22-4d97-a359-515e411166e7"
      },
      "execution_count": 11,
      "outputs": [
        {
          "output_type": "stream",
          "name": "stdout",
          "text": [
            "Alice 25\n"
          ]
        }
      ]
    },
    {
      "cell_type": "markdown",
      "source": [
        "### **Q3.How do you convert one data type to another in Python?**\n",
        "\n",
        "Python offers several built-in functions to convert between different data types. Here are some of the most commonly used type conversion functions:\n",
        "\n",
        "*  **int():** Converts a value to an integer.\n",
        "\n",
        "*  **float():** Converts a value to a floating-point number.\n",
        "\n",
        "*  **str():** Converts a value to a string representation.\n",
        "\n",
        "*  **bool():** Converts a value to a Boolean value (True or False)."
      ],
      "metadata": {
        "id": "AbJsZxWm1mjy"
      }
    },
    {
      "cell_type": "code",
      "source": [
        "# Converting an integer to a string\n",
        "number = 25\n",
        "string_value = str(number)\n",
        "print(string_value)\n",
        "\n",
        "# Converting a string to a float\n",
        "price = \"12.50\"\n",
        "float_value = float(price)\n",
        "print(float_value)\n",
        "\n",
        "# Converting a Boolean value to a string\n",
        "is_active = True\n",
        "string_representation = str(is_active)\n",
        "print(string_representation)\n"
      ],
      "metadata": {
        "colab": {
          "base_uri": "https://localhost:8080/"
        },
        "id": "f6_hXh4R3VG4",
        "outputId": "efe06ef3-3e84-4655-fe9b-76dd26aaee14"
      },
      "execution_count": 12,
      "outputs": [
        {
          "output_type": "stream",
          "name": "stdout",
          "text": [
            "25\n",
            "12.5\n",
            "True\n"
          ]
        }
      ]
    },
    {
      "cell_type": "markdown",
      "source": [
        "### **Q4. How do you write and execute a Python script from the command line?**\n",
        "\n",
        "To write and execute a Python script from the command line:\n",
        "\n",
        "**1. Create the Script:**\n",
        "\n",
        "* Open a text editor and save the script with a .py extension.\n",
        "\n",
        "**2. Execute the Script:**\n",
        "\n",
        "* Open a command-line terminal.\n",
        "* Navigate to the script's directory using the 'cd' command.\n",
        "* Type 'python' followed by the script's filename to execute it."
      ],
      "metadata": {
        "id": "2quuFau24G-B"
      }
    },
    {
      "cell_type": "markdown",
      "source": [
        "### **Q5. Given a list my_list = [1, 2, 3, 4, 5], write the code to slice the list and obtain the sub-list [2, 3].**"
      ],
      "metadata": {
        "id": "XHzRcrZU4Srv"
      }
    },
    {
      "cell_type": "code",
      "source": [
        "my_list = [1, 2, 3, 4, 5]\n",
        "sub_list = my_list[1:3]\n",
        "print(sub_list)\n"
      ],
      "metadata": {
        "colab": {
          "base_uri": "https://localhost:8080/"
        },
        "id": "trJhgS-B4bqB",
        "outputId": "c1748bd3-7b56-4724-a0b7-eed8452b6916"
      },
      "execution_count": 13,
      "outputs": [
        {
          "output_type": "stream",
          "name": "stdout",
          "text": [
            "[2, 3]\n"
          ]
        }
      ]
    },
    {
      "cell_type": "markdown",
      "source": [
        "### **Q6. What is a complex number in mathematics, and how is it represented in Python?**\n",
        "\n",
        "* Complex numbers are mathematical entities that extend the concept of real numbers by introducing the imaginary unit, denoted by 'i' or 'j'. They are represented in the form 'a + bi', where 'a' represents the real part and 'b' represents the imaginary part.\n",
        "\n",
        "* Python provides the built-in complex() function to represent complex numbers. The syntax is complex(real_part, imaginary_part), where 'real_part' and 'imaginary_part' are real numbers. For example, complex(2, 3) represents the complex number 2+3i.\n"
      ],
      "metadata": {
        "id": "QLHhg6q54eN4"
      }
    },
    {
      "cell_type": "code",
      "source": [
        "z1 = complex(2, 3)\n",
        "z1\n"
      ],
      "metadata": {
        "colab": {
          "base_uri": "https://localhost:8080/"
        },
        "id": "4J6RRnob4iTh",
        "outputId": "ef89014c-2ff0-4e9e-d076-228b5a79ee3e"
      },
      "execution_count": 14,
      "outputs": [
        {
          "output_type": "execute_result",
          "data": {
            "text/plain": [
              "(2+3j)"
            ]
          },
          "metadata": {},
          "execution_count": 14
        }
      ]
    },
    {
      "cell_type": "markdown",
      "source": [
        "### **Q7. What is the correct way to declare a variable named age and assign the value 25 to it?**\n",
        "\n"
      ],
      "metadata": {
        "id": "oxrYQHaa5Llf"
      }
    },
    {
      "cell_type": "code",
      "source": [
        "age = 25\n",
        "age"
      ],
      "metadata": {
        "colab": {
          "base_uri": "https://localhost:8080/"
        },
        "id": "oSvKi1Yl5Yi6",
        "outputId": "4332a2dd-4be1-493b-83f4-4e1289da9f2f"
      },
      "execution_count": 15,
      "outputs": [
        {
          "output_type": "execute_result",
          "data": {
            "text/plain": [
              "25"
            ]
          },
          "metadata": {},
          "execution_count": 15
        }
      ]
    },
    {
      "cell_type": "markdown",
      "source": [
        "### **Q8. Declare a variable named price and assign the value 9.99 to it. What data type does this variable belong to?**\n",
        "\n"
      ],
      "metadata": {
        "id": "ZB_iBhu55bPJ"
      }
    },
    {
      "cell_type": "code",
      "source": [
        "price = 9.99\n",
        "print(type(price))\n"
      ],
      "metadata": {
        "colab": {
          "base_uri": "https://localhost:8080/"
        },
        "id": "_rijKlMG5qia",
        "outputId": "b2f9a2ce-1fe3-4c7d-fd1b-4c0ea01d9209"
      },
      "execution_count": 18,
      "outputs": [
        {
          "output_type": "stream",
          "name": "stdout",
          "text": [
            "<class 'float'>\n"
          ]
        }
      ]
    },
    {
      "cell_type": "markdown",
      "source": [
        "### **Q9. Create a variable named name and assign your full name to it as a string. How would you print the value of this variable?**\n",
        "\n"
      ],
      "metadata": {
        "id": "ynqEIfRC5t_I"
      }
    },
    {
      "cell_type": "code",
      "source": [
        "name=\"Purshottam Singh\"\n",
        "name"
      ],
      "metadata": {
        "colab": {
          "base_uri": "https://localhost:8080/",
          "height": 35
        },
        "id": "TKt5oeD56Cis",
        "outputId": "108ff499-3832-4e37-ee2a-c76f3d46a845"
      },
      "execution_count": 19,
      "outputs": [
        {
          "output_type": "execute_result",
          "data": {
            "text/plain": [
              "'Purshottam Singh'"
            ],
            "application/vnd.google.colaboratory.intrinsic+json": {
              "type": "string"
            }
          },
          "metadata": {},
          "execution_count": 19
        }
      ]
    },
    {
      "cell_type": "markdown",
      "source": [
        "### **Q10. Given the string \"Hello, World!\", extract the substring \"World\".**\n",
        "\n"
      ],
      "metadata": {
        "id": "9BfsVH696Gco"
      }
    },
    {
      "cell_type": "code",
      "source": [
        "string = \"Hello, World!\"\n",
        "substring = string[7:12]\n",
        "print(substring)\n"
      ],
      "metadata": {
        "colab": {
          "base_uri": "https://localhost:8080/"
        },
        "id": "ZFCqX3Tt6gK6",
        "outputId": "2cffa156-6ba3-4496-df21-b47d5ffa7fd0"
      },
      "execution_count": 28,
      "outputs": [
        {
          "output_type": "stream",
          "name": "stdout",
          "text": [
            "World\n"
          ]
        }
      ]
    },
    {
      "cell_type": "markdown",
      "source": [
        "### **Q11. Create a variable named \"is_student\" and assign it a boolean value indicating whether you are currently a student or not.**"
      ],
      "metadata": {
        "id": "70RIZ4eR622y"
      }
    },
    {
      "cell_type": "code",
      "source": [
        "is_student = True\n",
        "is_student"
      ],
      "metadata": {
        "colab": {
          "base_uri": "https://localhost:8080/"
        },
        "id": "Dku9IFRA6-Rg",
        "outputId": "d6ab539f-5ac3-49f9-cdb9-78af3fccc857"
      },
      "execution_count": 30,
      "outputs": [
        {
          "output_type": "execute_result",
          "data": {
            "text/plain": [
              "True"
            ]
          },
          "metadata": {},
          "execution_count": 30
        }
      ]
    }
  ]
}