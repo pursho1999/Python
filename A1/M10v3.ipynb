{
 "cells": [
  {
   "cell_type": "markdown",
   "id": "f2a7ca0d-88da-400f-a6fb-226fa01a96af",
   "metadata": {},
   "source": [
    "## Q1 What is multithreading in python? Why is it used? Name the module used to handle threads in python"
   ]
  },
  {
   "cell_type": "markdown",
   "id": "ccf478bc-6067-4520-bfb9-403c5dc3156d",
   "metadata": {},
   "source": [
    "Multithreading is a technique that allows multiple threads to run concurrently within a single process. Each thread can execute different parts of a program simultaneously, which can improve the performance of an application, especially when performing I/O-bound operations.\n",
    "\n",
    "Why is it used?\n",
    "\n",
    "    To improve the performance of an application by allowing concurrent execution.\n",
    "    To make better use of system resources by keeping the CPU busy while waiting for I/O operations.\n",
    "    To simplify the design of programs that perform multiple tasks simultaneously.\n",
    "\n",
    "Module used to handle threads in Python:\n",
    "The threading module is used to handle threads in Python."
   ]
  },
  {
   "cell_type": "markdown",
   "id": "9fdfb5b6-bdf9-45b7-b1b1-8a3e8313564e",
   "metadata": {},
   "source": [
    "## Q2: Why is the threading module used? Write the use of the following functions:\n",
    "\n",
    "    activeCount\n",
    "    currentThread\n",
    "    enumerate\n"
   ]
  },
  {
   "cell_type": "code",
   "execution_count": 2,
   "id": "27cbb5ee-c3c8-4b26-8232-71a1d175ba85",
   "metadata": {},
   "outputs": [
    {
     "name": "stdout",
     "output_type": "stream",
     "text": [
      "8\n"
     ]
    },
    {
     "name": "stderr",
     "output_type": "stream",
     "text": [
      "/tmp/ipykernel_190/3673289675.py:5: DeprecationWarning: activeCount() is deprecated, use active_count() instead\n",
      "  print(threading.activeCount())\n"
     ]
    }
   ],
   "source": [
    "# activeCount:\n",
    "#Returns the number of Thread objects currently alive.\n",
    "\n",
    "import threading\n",
    "print(threading.activeCount())\n",
    "\n"
   ]
  },
  {
   "cell_type": "code",
   "execution_count": 3,
   "id": "2c78f7d7-5ca0-4a62-8ee6-cc0b27e85b16",
   "metadata": {},
   "outputs": [
    {
     "name": "stdout",
     "output_type": "stream",
     "text": [
      "<_MainThread(MainThread, started 140410362242880)>\n"
     ]
    },
    {
     "name": "stderr",
     "output_type": "stream",
     "text": [
      "/tmp/ipykernel_190/2064449088.py:5: DeprecationWarning: currentThread() is deprecated, use current_thread() instead\n",
      "  print(threading.currentThread())\n"
     ]
    }
   ],
   "source": [
    "#currentThread:\n",
    "#Returns the Thread object representing the current thread.\n",
    "\n",
    "import threading\n",
    "print(threading.currentThread())"
   ]
  },
  {
   "cell_type": "code",
   "execution_count": 4,
   "id": "799e1d8b-a0db-4bfb-89d6-553c55f4dba5",
   "metadata": {},
   "outputs": [
    {
     "name": "stdout",
     "output_type": "stream",
     "text": [
      "[<_MainThread(MainThread, started 140410362242880)>, <Thread(IOPub, started daemon 140410291713600)>, <Heartbeat(Heartbeat, started daemon 140410283320896)>, <Thread(Thread-3 (_watch_pipe_fd), started daemon 140410055812672)>, <Thread(Thread-4 (_watch_pipe_fd), started daemon 140410047419968)>, <ControlThread(Control, started daemon 140410039027264)>, <HistorySavingThread(IPythonHistorySavingThread, started 140410030634560)>, <ParentPollerUnix(Thread-2, started daemon 140410021193280)>]\n"
     ]
    }
   ],
   "source": [
    "#enumerate:\n",
    "#Returns a list of all Thread objects currently alive.\n",
    "\n",
    "\n",
    "import threading\n",
    "print(threading.enumerate())"
   ]
  },
  {
   "cell_type": "markdown",
   "id": "769e2822-102b-4686-81d4-6d1cb1b24aef",
   "metadata": {},
   "source": [
    "## Q3. Explain the following functions\n",
    "\n",
    "    run\n",
    "    start\n",
    "    join\n",
    "    isAlive\n",
    "\n"
   ]
  },
  {
   "cell_type": "code",
   "execution_count": 5,
   "id": "61176f7a-d861-43b9-9fa2-e09af04f43a4",
   "metadata": {},
   "outputs": [
    {
     "name": "stdout",
     "output_type": "stream",
     "text": [
      "Thread is running\n"
     ]
    }
   ],
   "source": [
    "#run:\n",
    "#The run method is the entry point for a thread. When a Thread object's run method is called, it executes the target function specified in the Thread object's constructor.\n",
    "\n",
    "\n",
    "import threading\n",
    "\n",
    "class MyThread(threading.Thread):\n",
    "    def run(self):\n",
    "        print(\"Thread is running\")\n",
    "\n",
    "thread = MyThread()\n",
    "thread.run()  # This calls the run method directly\n",
    "\n"
   ]
  },
  {
   "cell_type": "code",
   "execution_count": 6,
   "id": "b52ebd90-f5f5-4132-aaed-b0410c52dc7b",
   "metadata": {},
   "outputs": [
    {
     "name": "stdout",
     "output_type": "stream",
     "text": [
      "Thread is running\n"
     ]
    }
   ],
   "source": [
    "#start:\n",
    "#The start method starts the thread by calling the run method in a separate thread of control.\n",
    "\n",
    "\n",
    "import threading\n",
    "\n",
    "class MyThread(threading.Thread):\n",
    "    def run(self):\n",
    "        print(\"Thread is running\")\n",
    "\n",
    "thread = MyThread()\n",
    "thread.start()  # This starts the thread and calls the run method\n",
    "\n"
   ]
  },
  {
   "cell_type": "code",
   "execution_count": 8,
   "id": "5568c895-3397-4d09-a998-686b0664e440",
   "metadata": {},
   "outputs": [
    {
     "name": "stdout",
     "output_type": "stream",
     "text": [
      "Thread is done\n",
      "Main thread continues\n"
     ]
    }
   ],
   "source": [
    "#join:\n",
    "#The join method waits for the thread to complete its execution.\n",
    "\n",
    "import threading\n",
    "import time\n",
    "\n",
    "class MyThread(threading.Thread):\n",
    "    def run(self):\n",
    "        time.sleep(2)\n",
    "        print(\"Thread is done\")\n",
    "\n",
    "thread = MyThread()\n",
    "thread.start()\n",
    "thread.join()  # Waits for the thread to complete\n",
    "print(\"Main thread continues\")\n",
    "\n"
   ]
  },
  {
   "cell_type": "code",
   "execution_count": 10,
   "id": "179e42ae-c7b0-47e8-970b-23768af14e28",
   "metadata": {},
   "outputs": [
    {
     "ename": "AttributeError",
     "evalue": "'MyThread' object has no attribute 'isAlive'",
     "output_type": "error",
     "traceback": [
      "\u001b[0;31m---------------------------------------------------------------------------\u001b[0m",
      "\u001b[0;31mAttributeError\u001b[0m                            Traceback (most recent call last)",
      "Cell \u001b[0;32mIn[10], line 14\u001b[0m\n\u001b[1;32m     12\u001b[0m thread \u001b[38;5;241m=\u001b[39m MyThread()\n\u001b[1;32m     13\u001b[0m thread\u001b[38;5;241m.\u001b[39mstart()\n\u001b[0;32m---> 14\u001b[0m \u001b[38;5;28mprint\u001b[39m(\u001b[43mthread\u001b[49m\u001b[38;5;241;43m.\u001b[39;49m\u001b[43misAlive\u001b[49m())  \u001b[38;5;66;03m# True if the thread is still running\u001b[39;00m\n\u001b[1;32m     15\u001b[0m time\u001b[38;5;241m.\u001b[39msleep(\u001b[38;5;241m3\u001b[39m)\n\u001b[1;32m     16\u001b[0m \u001b[38;5;28mprint\u001b[39m(thread\u001b[38;5;241m.\u001b[39misAlive())  \u001b[38;5;66;03m# False after the thread has finished\u001b[39;00m\n",
      "\u001b[0;31mAttributeError\u001b[0m: 'MyThread' object has no attribute 'isAlive'"
     ]
    },
    {
     "name": "stdout",
     "output_type": "stream",
     "text": [
      "Thread is done\n"
     ]
    }
   ],
   "source": [
    "#isAlive:\n",
    "#The isAlive method checks whether the thread is still executing.\n",
    "\n",
    "import threading\n",
    "import time\n",
    "\n",
    "class MyThread(threading.Thread):\n",
    "    def run(self):\n",
    "        time.sleep(2)\n",
    "        print(\"Thread is done\")\n",
    "\n",
    "thread = MyThread()\n",
    "thread.start()\n",
    "print(thread.isAlive())  # True if the thread is still running\n",
    "time.sleep(3)\n",
    "print(thread.isAlive())  # False after the thread has finished\n"
   ]
  },
  {
   "cell_type": "markdown",
   "id": "3c077ed5-39b2-4636-ba53-14195dded9a5",
   "metadata": {},
   "source": [
    "## Q4: Write a Python program to create two threads. Thread one must print the list of squares and thread two must print the list of cubes."
   ]
  },
  {
   "cell_type": "code",
   "execution_count": 11,
   "id": "8a18fe99-34c8-43d1-8320-34a0541195fa",
   "metadata": {},
   "outputs": [
    {
     "name": "stdout",
     "output_type": "stream",
     "text": [
      "Square of 1: 1\n",
      "Square of 2: 4\n",
      "Square of 3: 9\n",
      "Square of 4: 16\n",
      "Square of 5: 25\n",
      "Cube of 1: 1\n",
      "Cube of 2: 8\n",
      "Cube of 3: 27\n",
      "Cube of 4: 64\n",
      "Cube of 5: 125\n",
      "Both threads have finished execution\n"
     ]
    }
   ],
   "source": [
    "import threading\n",
    "\n",
    "def print_squares(numbers):\n",
    "    for n in numbers:\n",
    "        print(f\"Square of {n}: {n * n}\")\n",
    "\n",
    "def print_cubes(numbers):\n",
    "    for n in numbers:\n",
    "        print(f\"Cube of {n}: {n * n * n}\")\n",
    "\n",
    "numbers = [1, 2, 3, 4, 5]\n",
    "\n",
    "thread1 = threading.Thread(target=print_squares, args=(numbers,))\n",
    "thread2 = threading.Thread(target=print_cubes, args=(numbers,))\n",
    "\n",
    "thread1.start()\n",
    "thread2.start()\n",
    "\n",
    "thread1.join()\n",
    "thread2.join()\n",
    "\n",
    "print(\"Both threads have finished execution\")\n"
   ]
  },
  {
   "cell_type": "markdown",
   "id": "36d17839-b6a8-482b-806a-f46496c0be6e",
   "metadata": {},
   "source": [
    "## Q5: State advantages and disadvantages of multithreading."
   ]
  },
  {
   "cell_type": "markdown",
   "id": "ccafd967-4089-4604-aeb6-401ca9fad516",
   "metadata": {},
   "source": [
    "#advantages\n",
    "- enhanced performance on multiprocessor machine\n",
    "- better use of system resources possible\n",
    "- thread execetion done parallely/simultaneously \n",
    "- if one thread stuck then other might perform their task \n",
    "\n",
    "#disadvantagess \n",
    "- shared resources like data could create problem as multiple threads could have access to them \n",
    "- as thread count increases complexity too increases\n",
    "- it makes debut difficult and predictable\n",
    "- high deadlock possiblity "
   ]
  },
  {
   "cell_type": "markdown",
   "id": "93ef0418-ddf5-4718-afea-47cfe6557c68",
   "metadata": {},
   "source": [
    "## Q6. Explain deadlocks and race conditions."
   ]
  },
  {
   "cell_type": "markdown",
   "id": "d587a659-1aac-43cb-9b9e-76abbd6a7a64",
   "metadata": {},
   "source": [
    "Deadlocks:</br>\n",
    "A deadlock occurs when two or more threads are blocked forever, waiting for each other to release resources. It typically happens when each thread tries to acquire a lock that another thread holds, leading to a situation where neither thread can proceed."
   ]
  },
  {
   "cell_type": "code",
   "execution_count": 13,
   "id": "663e2a28-6894-4588-80d9-b1dff38fb6e6",
   "metadata": {},
   "outputs": [],
   "source": [
    "#deadlock"
   ]
  },
  {
   "cell_type": "code",
   "execution_count": 14,
   "id": "f2681e2e-5f8f-461c-836d-9c2d84bc9925",
   "metadata": {},
   "outputs": [
    {
     "name": "stdout",
     "output_type": "stream",
     "text": [
      "Thread 1 acquired lock 1\n",
      "Thread 1 acquired lock 2\n",
      "Thread 2 acquired lock 2\n",
      "Thread 2 acquired lock 1\n"
     ]
    }
   ],
   "source": [
    "import threading\n",
    "\n",
    "lock1 = threading.Lock()\n",
    "lock2 = threading.Lock()\n",
    "\n",
    "def thread1():\n",
    "    lock1.acquire()\n",
    "    print(\"Thread 1 acquired lock 1\")\n",
    "    lock2.acquire()\n",
    "    print(\"Thread 1 acquired lock 2\")\n",
    "    lock2.release()\n",
    "    lock1.release()\n",
    "\n",
    "def thread2():\n",
    "    lock2.acquire()\n",
    "    print(\"Thread 2 acquired lock 2\")\n",
    "    lock1.acquire()\n",
    "    print(\"Thread 2 acquired lock 1\")\n",
    "    lock1.release()\n",
    "    lock2.release()\n",
    "\n",
    "t1 = threading.Thread(target=thread1)\n",
    "t2 = threading.Thread(target=thread2)\n",
    "\n",
    "t1.start()\n",
    "t2.start()\n",
    "\n",
    "t1.join()\n",
    "t2.join()\n"
   ]
  },
  {
   "cell_type": "markdown",
   "id": "42d437a9-80e2-41e3-9eb5-84767e130b03",
   "metadata": {},
   "source": [
    "Race Conditions:</br>\n",
    "A race condition occurs when two or more threads access shared data simultaneously and the outcome of the execution depends on the non-deterministic order of thread execution. This can lead to inconsistent or incorrect results."
   ]
  },
  {
   "cell_type": "code",
   "execution_count": 15,
   "id": "f374bb87-3645-499f-b094-5c3d74d85993",
   "metadata": {},
   "outputs": [],
   "source": [
    "#racecondition"
   ]
  },
  {
   "cell_type": "code",
   "execution_count": 16,
   "id": "fcee840c-e785-464e-8c32-7d1d59a95e8a",
   "metadata": {},
   "outputs": [
    {
     "name": "stdout",
     "output_type": "stream",
     "text": [
      "Final counter value: 200000\n"
     ]
    }
   ],
   "source": [
    "import threading\n",
    "\n",
    "counter = 0\n",
    "\n",
    "def increment_counter():\n",
    "    global counter\n",
    "    for _ in range(100000):\n",
    "        counter += 1\n",
    "\n",
    "thread1 = threading.Thread(target=increment_counter)\n",
    "thread2 = threading.Thread(target=increment_counter)\n",
    "\n",
    "thread1.start()\n",
    "thread2.start()\n",
    "\n",
    "thread1.join()\n",
    "thread2.join()\n",
    "\n",
    "print(f\"Final counter value: {counter}\")\n"
   ]
  },
  {
   "cell_type": "code",
   "execution_count": null,
   "id": "830bd11e-238d-41bd-8aff-1e1eb75f1f66",
   "metadata": {},
   "outputs": [],
   "source": []
  }
 ],
 "metadata": {
  "kernelspec": {
   "display_name": "Python 3 (ipykernel)",
   "language": "python",
   "name": "python3"
  },
  "language_info": {
   "codemirror_mode": {
    "name": "ipython",
    "version": 3
   },
   "file_extension": ".py",
   "mimetype": "text/x-python",
   "name": "python",
   "nbconvert_exporter": "python",
   "pygments_lexer": "ipython3",
   "version": "3.10.8"
  }
 },
 "nbformat": 4,
 "nbformat_minor": 5
}
