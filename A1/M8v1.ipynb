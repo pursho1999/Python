{
 "cells": [
  {
   "cell_type": "markdown",
   "id": "a214e25b-fa8e-4345-8b37-17f9c711143b",
   "metadata": {},
   "source": [
    "## 1. Which keyword is used to create a function? Create a function to return a list of odd numbers in the range of 1 to 25."
   ]
  },
  {
   "cell_type": "raw",
   "id": "4226c507-66d7-4afc-9eba-d631fbd262ba",
   "metadata": {},
   "source": [
    "The keyword used to create a function in Python is def."
   ]
  },
  {
   "cell_type": "code",
   "execution_count": 6,
   "id": "559cd8e6-323a-443e-8a34-cbe891e78e3e",
   "metadata": {},
   "outputs": [
    {
     "name": "stdout",
     "output_type": "stream",
     "text": [
      "[1, 3, 5, 7, 9, 11, 13, 15, 17, 19, 21, 23, 25]\n"
     ]
    }
   ],
   "source": [
    "def get_odd_numbers():\n",
    "    odd_numbers = []\n",
    "    for num in range(1, 26):\n",
    "        if num % 2 != 0:\n",
    "            odd_numbers.append(num)\n",
    "    return odd_numbers\n",
    "\n",
    "print(get_odd_numbers())\n"
   ]
  },
  {
   "cell_type": "raw",
   "id": "7018457c-3adb-49b3-8792-9e3485097181",
   "metadata": {},
   "source": [
    "## 2. Why *args and **kwargs is used in some functions? Create a function each for *args and **kwargs to demonstrate their use."
   ]
  },
  {
   "cell_type": "raw",
   "id": "a7159f8a-2891-4c25-a5f6-3f9fb6516f82",
   "metadata": {},
   "source": [
    "*args allows to pass a variable number of non-keyword arguments to a function. It collects extra positional arguments as a tuple.\n",
    "\n",
    "**kwargs allows to pass a variable number of keyword arguments to a function. It collects extra named arguments as a dictionary."
   ]
  },
  {
   "cell_type": "code",
   "execution_count": 7,
   "id": "8e973571-7c1b-4e57-8251-c852942b1af0",
   "metadata": {},
   "outputs": [
    {
     "name": "stdout",
     "output_type": "stream",
     "text": [
      "15\n"
     ]
    }
   ],
   "source": [
    "# *args\n",
    "def sum_numbers(*args):\n",
    "    return sum(args)\n",
    "\n",
    "# Example usage\n",
    "result = sum_numbers(1, 2, 3, 4, 5)\n",
    "print(result)  # Output: 15\n"
   ]
  },
  {
   "cell_type": "code",
   "execution_count": 10,
   "id": "0637de57-9cf5-43b4-847c-cba0fab25e62",
   "metadata": {},
   "outputs": [
    {
     "name": "stdout",
     "output_type": "stream",
     "text": [
      "name: Purshottam\n",
      "age: 23\n",
      "city: Pune\n"
     ]
    }
   ],
   "source": [
    "# **args\n",
    "def print_info(**kwargs):\n",
    "    for key, value in kwargs.items():\n",
    "        print(f\"{key}: {value}\")\n",
    "\n",
    "# Example usage\n",
    "print_info(name=\"Purshottam\", age=23, city=\"Pune\")\n"
   ]
  },
  {
   "cell_type": "markdown",
   "id": "55b2df73-a59f-4991-9848-9396d8e189dd",
   "metadata": {},
   "source": [
    "## 3.  What is an iterator in python? Name the method used to initialise the iterator object and the method used for iteration. Use these methods to print the first five elements of the given list [2, 4, 6, 8, 10, 12, 14, 16, 18, 20]."
   ]
  },
  {
   "cell_type": "raw",
   "id": "f4ebebaf-16bf-405e-b707-351a63202cc8",
   "metadata": {},
   "source": [
    "An iterator in Python is an object that implements the iterator protocol, consisting of the methods __iter__() and __next__(). An iterator allows you to traverse through all the elements of a collection, such as a list, without needing to know the underlying structure."
   ]
  },
  {
   "cell_type": "code",
   "execution_count": 3,
   "id": "654d1a83-e93c-4441-bd6f-055e6e085de2",
   "metadata": {},
   "outputs": [
    {
     "name": "stdout",
     "output_type": "stream",
     "text": [
      "2\n",
      "4\n",
      "6\n",
      "8\n",
      "10\n"
     ]
    }
   ],
   "source": [
    "\n",
    "numbers = [2, 4, 6, 8, 10, 12, 14, 16, 18, 20]\n",
    "\n",
    "iterator = iter(numbers)\n",
    "\n",
    "for _ in range(5):\n",
    "    print(next(iterator))\n"
   ]
  },
  {
   "cell_type": "markdown",
   "id": "853e3c7c-aead-49b7-a7a4-fe497c9cbbe5",
   "metadata": {},
   "source": [
    "## 4. What is a generator function in python? Why yield keyword is used? Give an example of a generator function."
   ]
  },
  {
   "cell_type": "raw",
   "id": "255407ff-45c5-4689-b169-5b890196a59e",
   "metadata": {},
   "source": [
    "A generator function is a special type of function in Python that generates an iterator using the yield keyword. Instead of returning a single value, a generator can yield multiple values one at a time, allowing you to iterate through them on demand.\n",
    "Why Use yield?\n",
    "\n",
    "The yield keyword is used to produce a value and pause the function’s execution, saving its state. When the generator is called again, execution resumes from where it left off, allowing the function to produce the next value in the sequence."
   ]
  },
  {
   "cell_type": "code",
   "execution_count": 5,
   "id": "52b68d8f-d29a-4bff-93b8-7583f65c4fb4",
   "metadata": {},
   "outputs": [
    {
     "name": "stdout",
     "output_type": "stream",
     "text": [
      "0\n",
      "2\n",
      "4\n",
      "6\n",
      "8\n"
     ]
    }
   ],
   "source": [
    "def generate_even_numbers(n):\n",
    "    for i in range(n):\n",
    "        yield i * 2\n",
    "\n",
    "\n",
    "even_gen = generate_even_numbers(5)\n",
    "for num in even_gen:\n",
    "    print(num)\n"
   ]
  },
  {
   "cell_type": "markdown",
   "id": "83f011df-030b-4399-bcc2-d8f0fd8da6f8",
   "metadata": {},
   "source": [
    "## 5. Create a generator function for prime numbers less than 1000. Use the next() method to print the first 20 prime numbers."
   ]
  },
  {
   "cell_type": "code",
   "execution_count": 8,
   "id": "f61efaaf-143f-4735-9be2-ceaefba03c4b",
   "metadata": {},
   "outputs": [
    {
     "name": "stdout",
     "output_type": "stream",
     "text": [
      "2\n",
      "3\n",
      "5\n",
      "7\n",
      "11\n",
      "13\n",
      "17\n",
      "19\n",
      "23\n",
      "29\n",
      "31\n",
      "37\n",
      "41\n",
      "43\n",
      "47\n",
      "53\n",
      "59\n",
      "61\n",
      "67\n",
      "71\n"
     ]
    }
   ],
   "source": [
    "def prime_generator(limit):\n",
    "    for num in range(2, limit):\n",
    "        is_prime = all(num % i != 0 for i in range(2, int(num**0.5) + 1))\n",
    "        if is_prime:\n",
    "            yield num\n",
    "\n",
    "\n",
    "prime_gen = prime_generator(1000)\n",
    "\n",
    "\n",
    "for _ in range(20):\n",
    "    print(next(prime_gen))\n"
   ]
  },
  {
   "cell_type": "markdown",
   "id": "059cad59-b7bc-4a48-89a5-3b1d5fead950",
   "metadata": {},
   "source": [
    "## 6. Write a python program to print the first 10 Fibonacci numbers using a while loop."
   ]
  },
  {
   "cell_type": "code",
   "execution_count": 18,
   "id": "66a33bc9-983e-4932-aef8-1c8c7f05aab2",
   "metadata": {},
   "outputs": [
    {
     "name": "stdout",
     "output_type": "stream",
     "text": [
      "0\n",
      "1\n",
      "1\n",
      "2\n",
      "3\n",
      "5\n",
      "8\n",
      "13\n",
      "21\n",
      "34\n"
     ]
    }
   ],
   "source": [
    "def test_fib(n):\n",
    "    a, b = 0, 1\n",
    "    count = 0\n",
    "    while count < n:\n",
    "        yield a\n",
    "        a, b = b, a + b\n",
    "        count += 1\n",
    "\n",
    "for i in test_fib(10):\n",
    "    print(i)\n"
   ]
  },
  {
   "cell_type": "markdown",
   "id": "6d689f2f-0760-4e2f-8a31-3db8b080386e",
   "metadata": {},
   "source": [
    "## 7. Write a List Comprehension to iterate through the given string: ‘pwskills’.\n",
    "### Expected output: ['p', 'w', 's', 'k', 'i', 'l', 'l', 's']"
   ]
  },
  {
   "cell_type": "code",
   "execution_count": 25,
   "id": "1a58a2db-b9a5-4440-941f-34bb3fec4fef",
   "metadata": {},
   "outputs": [
    {
     "name": "stdout",
     "output_type": "stream",
     "text": [
      "['p', 'w', 's', 'k', 'i', 'l', 'l', 's']\n"
     ]
    }
   ],
   "source": [
    "string = 'pwskills'\n",
    "output = [char for char in string]\n",
    "print(output)\n"
   ]
  },
  {
   "cell_type": "markdown",
   "id": "7e4c69f1-2b9b-46ee-9210-6756c9d048b8",
   "metadata": {},
   "source": [
    "## 8. Write a python program to check whether a given number is Palindrome or not using a while loop."
   ]
  },
  {
   "cell_type": "code",
   "execution_count": 27,
   "id": "9319735f-db51-44ab-a6d4-f4b35b375b8a",
   "metadata": {},
   "outputs": [
    {
     "name": "stdout",
     "output_type": "stream",
     "text": [
      "121 is a palindrome.\n"
     ]
    }
   ],
   "source": [
    "def is_palindrome(number):\n",
    "    original_number = number\n",
    "    reversed_number = 0\n",
    "\n",
    "    while number > 0:\n",
    "        remainder = number % 10\n",
    "        reversed_number = reversed_number * 10 + remainder\n",
    "        number = number // 10\n",
    "\n",
    "    return original_number == reversed_number\n",
    "\n",
    "# Example usage:\n",
    "num = 121\n",
    "if is_palindrome(num):\n",
    "    print(f\"{num} is a palindrome.\")\n",
    "else:\n",
    "    print(f\"{num} is not a palindrome.\")\n"
   ]
  },
  {
   "cell_type": "markdown",
   "id": "994c1cb4-c264-45b0-98b6-739f281e278c",
   "metadata": {},
   "source": [
    "## 8. Write a code to print odd numbers from 1 to 100 using list comprehension.\n",
    "##### *Note: Use a list comprehension to create a list from 1 to 100 and use another List comprehension to filter out odd numbers.*"
   ]
  },
  {
   "cell_type": "code",
   "execution_count": 28,
   "id": "fee914a9-fb0f-4dd1-98fb-cb458e40c059",
   "metadata": {},
   "outputs": [
    {
     "name": "stdout",
     "output_type": "stream",
     "text": [
      "[1, 3, 5, 7, 9, 11, 13, 15, 17, 19, 21, 23, 25, 27, 29, 31, 33, 35, 37, 39, 41, 43, 45, 47, 49, 51, 53, 55, 57, 59, 61, 63, 65, 67, 69, 71, 73, 75, 77, 79, 81, 83, 85, 87, 89, 91, 93, 95, 97, 99]\n"
     ]
    }
   ],
   "source": [
    "# Using a single list comprehension to print odd numbers from 1 to 100\n",
    "odd_numbers = [num for num in range(1, 101, 2)]\n",
    "\n",
    "# Printing the list of odd numbers\n",
    "print(odd_numbers)\n"
   ]
  },
  {
   "cell_type": "code",
   "execution_count": null,
   "id": "3ea55f91-0f53-4b6c-9881-89bacda5e6f2",
   "metadata": {},
   "outputs": [],
   "source": []
  }
 ],
 "metadata": {
  "kernelspec": {
   "display_name": "Python 3 (ipykernel)",
   "language": "python",
   "name": "python3"
  },
  "language_info": {
   "codemirror_mode": {
    "name": "ipython",
    "version": 3
   },
   "file_extension": ".py",
   "mimetype": "text/x-python",
   "name": "python",
   "nbconvert_exporter": "python",
   "pygments_lexer": "ipython3",
   "version": "3.10.8"
  }
 },
 "nbformat": 4,
 "nbformat_minor": 5
}
