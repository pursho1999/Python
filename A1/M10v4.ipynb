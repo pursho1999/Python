{
 "cells": [
  {
   "cell_type": "markdown",
   "id": "b514d204-755c-4998-b63a-86876376e77a",
   "metadata": {},
   "source": [
    "## Q1. What is multiprocessing in python? Why is it useful?"
   ]
  },
  {
   "cell_type": "markdown",
   "id": "355d71f5-4327-40db-a752-1ea6448be84e",
   "metadata": {},
   "source": [
    "Multiprocessing is a module that allows the creation of multiple processes in Python. Each process runs independently and has its own memory space. The multiprocessing module allows you to create, manage, and communicate between processes.\n",
    "\n",
    "Why is it useful?\n",
    "\n",
    "- Parallel Execution: Allows true parallel execution of code, making full use of multiple CPU cores, which is especially beneficial for CPU-bound tasks.\n",
    "- Bypassing GIL: Unlike multithreading, multiprocessing avoids the Global Interpreter Lock (GIL) in CPython, allowing for concurrent execution of tasks in separate processes.\n",
    "- Isolation: Each process runs in its own memory space, reducing the risk of data corruption due to concurrent access by multiple threads."
   ]
  },
  {
   "cell_type": "markdown",
   "id": "3f80d9a9-f31c-47cf-9e4d-895a5bf54edd",
   "metadata": {},
   "source": [
    "## Q2. What are the differences between multiprocessing and multithreading?"
   ]
  },
  {
   "cell_type": "markdown",
   "id": "5a76ac5b-78cb-4296-8a3d-48c1f3a2439d",
   "metadata": {},
   "source": [
    "Multiprocessing involves multiple process running at once whereas in multithreading single process/thread executing at time\n",
    "\n",
    "In Multithreading all threads share same memory and processor which makes data sharing & communication easy\n",
    "while multiprocessing multiple process runs in parallel\n",
    "\n",
    "As Multiprocessing usage multiprocess it improve overall performace and efficiency while \n",
    "multithreading share space soo needs lesser computing and lesser space\n",
    "\n",
    "Creating multiprocess a bit difficult than multiple threads\n",
    "\n",
    "To boost multiprocessing adding CPU helps but not in multithreading\n"
   ]
  },
  {
   "cell_type": "markdown",
   "id": "35abe8ad-7264-44a0-8481-c7f2f7bebd6f",
   "metadata": {},
   "source": [
    "## Q3: Write a Python code to create a process using the multiprocessing module."
   ]
  },
  {
   "cell_type": "code",
   "execution_count": 2,
   "id": "04a31feb-f530-4220-9fc4-c9332cab228f",
   "metadata": {},
   "outputs": [
    {
     "name": "stdout",
     "output_type": "stream",
     "text": [
      "Hello from a process!\n"
     ]
    }
   ],
   "source": [
    "import multiprocessing\n",
    "\n",
    "def print_hello():\n",
    "    print(\"Hello from a process!\")\n",
    "\n",
    "if __name__ == \"__main__\":\n",
    "    process = multiprocessing.Process(target=print_hello)\n",
    "    process.start()\n",
    "    process.join()\n"
   ]
  },
  {
   "cell_type": "markdown",
   "id": "b497c3fc-5235-4d14-b19b-ad6926234416",
   "metadata": {},
   "source": [
    "## Q4. What is a multiprocessing pool in python? Why is it used?"
   ]
  },
  {
   "cell_type": "markdown",
   "id": "045fe214-b082-40f7-914a-cad8d6587d57",
   "metadata": {},
   "source": [
    "A multiprocessing pool is a collection of worker processes that can be used to parallelize the execution of a function across multiple input values. The multiprocessing.Pool class provides convenient methods to parallelize the execution of a function across a sequence of data.\n",
    "\n",
    "Why is it used?\n",
    "\n",
    "- Simplifies Parallelism: Abstracts the creation and management of processes, making it easier to parallelize tasks.\n",
    "- Efficient Resource Management: Manages a pool of worker processes that can be reused, reducing the overhead of creating and destroying processes.\n",
    "- Convenient Methods: Provides high-level methods like map, apply, starmap, etc., for parallelizing function execution."
   ]
  },
  {
   "cell_type": "code",
   "execution_count": 3,
   "id": "d6f79c18-c30d-4221-a5b2-e617ffa8775b",
   "metadata": {},
   "outputs": [
    {
     "name": "stdout",
     "output_type": "stream",
     "text": [
      "[1, 4, 9, 16, 25]\n"
     ]
    }
   ],
   "source": [
    "import multiprocessing\n",
    "\n",
    "def square(number):\n",
    "    return number * number\n",
    "\n",
    "if __name__ == \"__main__\":\n",
    "    with multiprocessing.Pool(processes=4) as pool:\n",
    "        numbers = [1, 2, 3, 4, 5]\n",
    "        results = pool.map(square, numbers)\n",
    "        print(results)\n"
   ]
  },
  {
   "cell_type": "markdown",
   "id": "e03fb9c9-c107-4678-915f-9618499bc776",
   "metadata": {},
   "source": [
    "## Q6: Write a Python program to create 4 processes, each process should print a different number using the multiprocessing module in Python."
   ]
  },
  {
   "cell_type": "code",
   "execution_count": 4,
   "id": "4360feea-80e0-4646-8c51-36f9496ec672",
   "metadata": {},
   "outputs": [
    {
     "name": "stdout",
     "output_type": "stream",
     "text": [
      "Process ID: 652 - Number: 1\n",
      "Process ID: 655 - Number: 2\n",
      "Process ID: 662 - Number: 3\n",
      "Process ID: 667 - Number: 4\n"
     ]
    }
   ],
   "source": [
    "import multiprocessing\n",
    "\n",
    "def print_number(number):\n",
    "    print(f\"Process ID: {multiprocessing.current_process().pid} - Number: {number}\")\n",
    "\n",
    "if __name__ == \"__main__\":\n",
    "    processes = []\n",
    "    numbers = [1, 2, 3, 4]\n",
    "    \n",
    "    for number in numbers:\n",
    "        process = multiprocessing.Process(target=print_number, args=(number,))\n",
    "        processes.append(process)\n",
    "        process.start()\n",
    "    \n",
    "    for process in processes:\n",
    "        process.join()\n"
   ]
  },
  {
   "cell_type": "code",
   "execution_count": null,
   "id": "8a16f89b-cf65-43fa-acfe-adc51e8a1d9a",
   "metadata": {},
   "outputs": [],
   "source": []
  }
 ],
 "metadata": {
  "kernelspec": {
   "display_name": "Python 3 (ipykernel)",
   "language": "python",
   "name": "python3"
  },
  "language_info": {
   "codemirror_mode": {
    "name": "ipython",
    "version": 3
   },
   "file_extension": ".py",
   "mimetype": "text/x-python",
   "name": "python",
   "nbconvert_exporter": "python",
   "pygments_lexer": "ipython3",
   "version": "3.10.8"
  }
 },
 "nbformat": 4,
 "nbformat_minor": 5
}
